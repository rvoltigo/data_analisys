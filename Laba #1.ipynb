{
 "cells": [
  {
   "cell_type": "markdown",
   "id": "0ef9711b",
   "metadata": {},
   "source": [
    "## Лабораторная работа №1"
   ]
  },
  {
   "cell_type": "markdown",
   "id": "917c0bb0",
   "metadata": {},
   "source": [
    "### Задание 1\n",
    "#### 1. Сложите данные переменные, чтобы в результате получить 11"
   ]
  },
  {
   "cell_type": "code",
   "execution_count": null,
   "id": "5355918f",
   "metadata": {},
   "outputs": [],
   "source": [
    "a = \"5\"\n",
    "b = 6"
   ]
  },
  {
   "cell_type": "markdown",
   "id": "d791c823",
   "metadata": {},
   "source": [
    "#### 2. Поменяйте значения переменных a и b местами"
   ]
  },
  {
   "cell_type": "code",
   "execution_count": null,
   "id": "1ce946f2",
   "metadata": {},
   "outputs": [],
   "source": []
  },
  {
   "cell_type": "markdown",
   "id": "ab21126e",
   "metadata": {},
   "source": [
    "### Задание 2\n",
    "#### Дана строка:"
   ]
  },
  {
   "cell_type": "code",
   "execution_count": 1,
   "id": "437a8d4b",
   "metadata": {},
   "outputs": [],
   "source": [
    "stringFirst = \"History is always written by the winners. When two cultures clash, the loser is obliterated, and the winner writes the history books - books which glorify their own cause and disparage the conquered foe. As Napoleon once said, 'What is history, but a fable agreed upon?'\""
   ]
  },
  {
   "cell_type": "markdown",
   "id": "d1c0ae4e",
   "metadata": {},
   "source": [
    "#### 1. Посчитайте количество слов в строке"
   ]
  },
  {
   "cell_type": "code",
   "execution_count": null,
   "id": "32687da0",
   "metadata": {},
   "outputs": [],
   "source": []
  },
  {
   "cell_type": "markdown",
   "id": "229e7fb1",
   "metadata": {},
   "source": [
    "#### 2. Посчитайте, сколько символов в строке"
   ]
  },
  {
   "cell_type": "code",
   "execution_count": null,
   "id": "ba31ef57",
   "metadata": {},
   "outputs": [],
   "source": []
  },
  {
   "cell_type": "markdown",
   "id": "596f4f44",
   "metadata": {},
   "source": [
    "#### 3. А без пробелов?"
   ]
  },
  {
   "cell_type": "code",
   "execution_count": null,
   "id": "b382e9bf",
   "metadata": {},
   "outputs": [],
   "source": []
  },
  {
   "cell_type": "markdown",
   "id": "4d4082e6",
   "metadata": {},
   "source": [
    "#### 4. Выведите все слова, которые начинаются на 'w'"
   ]
  },
  {
   "cell_type": "code",
   "execution_count": null,
   "id": "575dc566",
   "metadata": {},
   "outputs": [],
   "source": []
  },
  {
   "cell_type": "markdown",
   "id": "f36e0c20",
   "metadata": {},
   "source": [
    "#### 5. Напишите функцию, которая разбивает строку на слова(?!. и т.д.)"
   ]
  },
  {
   "cell_type": "code",
   "execution_count": null,
   "id": "758fe9e8",
   "metadata": {},
   "outputs": [],
   "source": []
  },
  {
   "cell_type": "markdown",
   "id": "1be330f1",
   "metadata": {},
   "source": [
    "#### 6. Замените все восклицательные знаки на точки"
   ]
  },
  {
   "cell_type": "code",
   "execution_count": null,
   "id": "df00195b",
   "metadata": {},
   "outputs": [],
   "source": []
  },
  {
   "cell_type": "markdown",
   "id": "b4ba49ab",
   "metadata": {},
   "source": [
    "### Задание 3\n",
    "#### 1. Добавьте в следующий массив 3 значения: 19, '22', 45"
   ]
  },
  {
   "cell_type": "code",
   "execution_count": null,
   "id": "7f82c097",
   "metadata": {},
   "outputs": [],
   "source": [
    "ageOfStudents = [16, 17, 18, 33]"
   ]
  },
  {
   "cell_type": "markdown",
   "id": "1f0dbd9d",
   "metadata": {},
   "source": [
    "#### 2. Выведите все элементы массива сначала циклом while, потом циклом for"
   ]
  },
  {
   "cell_type": "code",
   "execution_count": null,
   "id": "bcf29a2d",
   "metadata": {},
   "outputs": [],
   "source": [
    "while"
   ]
  },
  {
   "cell_type": "code",
   "execution_count": null,
   "id": "9486e37f",
   "metadata": {},
   "outputs": [],
   "source": [
    "for"
   ]
  },
  {
   "cell_type": "markdown",
   "id": "070295a6",
   "metadata": {},
   "source": [
    "#### 3. Создайте функцию для вывода всех элементов из массива"
   ]
  },
  {
   "cell_type": "code",
   "execution_count": null,
   "id": "3fb0a6d0",
   "metadata": {},
   "outputs": [],
   "source": []
  },
  {
   "cell_type": "markdown",
   "id": "ee8344bc",
   "metadata": {},
   "source": [
    "#### 4. Используйте свою функцию на следующем массиве:"
   ]
  },
  {
   "cell_type": "code",
   "execution_count": 2,
   "id": "00442376",
   "metadata": {},
   "outputs": [],
   "source": [
    "toDoList = [\"complete tasks\", \"drink tea\", \"go to volleyball\", \"feed the cat\"]"
   ]
  },
  {
   "cell_type": "markdown",
   "id": "d5b1195c",
   "metadata": {},
   "source": [
    "#### 5. Есть список a = [1, 1, 2, 3, 5, 8, 13, 21, 34, 55, 89]. \\\n",
    "#### Выведите все элементы, которые меньше 5."
   ]
  },
  {
   "cell_type": "code",
   "execution_count": null,
   "id": "72b5db19",
   "metadata": {},
   "outputs": [],
   "source": []
  },
  {
   "cell_type": "markdown",
   "id": "5375c58f",
   "metadata": {},
   "source": [
    "#### 6. (Дополнительное задание) \\\n",
    "#### Напишите функцию, которая проверяет является ли строка палиндромом. Палиндром — это слово или фраза, которые одинаково читаются слева направо и справа налево.\n",
    "##### Например: слово \"казак\" и предложение \"А роза упала на лапу Азора\" являются палиндромами"
   ]
  },
  {
   "cell_type": "code",
   "execution_count": null,
   "id": "35d851bd",
   "metadata": {},
   "outputs": [],
   "source": []
  },
  {
   "cell_type": "markdown",
   "id": "c87299fe",
   "metadata": {},
   "source": [
    "### Задание 4  \\\n",
    "#### 1. Вы принимаете от пользователя последовательность чисел, разделённых запятой. Составьте список с этими числами."
   ]
  },
  {
   "cell_type": "code",
   "execution_count": null,
   "id": "c8b5ed08",
   "metadata": {},
   "outputs": [],
   "source": []
  },
  {
   "cell_type": "markdown",
   "id": "42b28d84",
   "metadata": {},
   "source": [
    "#### 2. Выведите первый и последний элемент этого списка в одном print"
   ]
  },
  {
   "cell_type": "code",
   "execution_count": null,
   "id": "236401d1",
   "metadata": {},
   "outputs": [],
   "source": []
  },
  {
   "cell_type": "markdown",
   "id": "92f9fa9e",
   "metadata": {},
   "source": [
    "#### 3. Напишите программу, которая выводит чётные числа из заданного списка и останавливается, если встречает число 111."
   ]
  },
  {
   "cell_type": "code",
   "execution_count": 3,
   "id": "c3f6ea59",
   "metadata": {},
   "outputs": [],
   "source": [
    "numbers = [\n",
    "    386, 462, 47, 418, 907, 344, 236, 375, 823, 566, 597, 978, 328, 615, 953, 345,\n",
    "    399, 162, 758, 219, 918, 237, 412, 566, 111, 248, 866, 950, 626, 949, 687, 217,\n",
    "]"
   ]
  },
  {
   "cell_type": "markdown",
   "id": "a51efc70",
   "metadata": {},
   "source": [
    "#### 4. Посчитать среднееарифметическое чисел, которые меньше 350"
   ]
  },
  {
   "cell_type": "code",
   "execution_count": null,
   "id": "7553bddc",
   "metadata": {},
   "outputs": [],
   "source": []
  },
  {
   "cell_type": "markdown",
   "id": "6a0322c7",
   "metadata": {},
   "source": [
    "#### 5. (Дополнительно) \n",
    "#### Создать новый массив, присвоить ему значение массива numbers, удалить все элементы из массива numbers и добавить в него (в numbers) новые строковые элементы в размере 5 штук"
   ]
  },
  {
   "cell_type": "code",
   "execution_count": null,
   "id": "b6b635e0",
   "metadata": {},
   "outputs": [],
   "source": []
  }
 ],
 "metadata": {
  "kernelspec": {
   "display_name": "Python 3",
   "language": "python",
   "name": "python3"
  },
  "language_info": {
   "codemirror_mode": {
    "name": "ipython",
    "version": 3
   },
   "file_extension": ".py",
   "mimetype": "text/x-python",
   "name": "python",
   "nbconvert_exporter": "python",
   "pygments_lexer": "ipython3",
   "version": "3.8.8"
  }
 },
 "nbformat": 4,
 "nbformat_minor": 5
}
