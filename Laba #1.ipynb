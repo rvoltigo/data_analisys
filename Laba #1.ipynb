{
 "cells": [
  {
   "cell_type": "markdown",
   "id": "0ef9711b",
   "metadata": {},
   "source": [
    "## Лабораторная работа №1"
   ]
  },
  {
   "cell_type": "markdown",
   "id": "917c0bb0",
   "metadata": {},
   "source": [
    "### Задание 1\n",
    "#### 1. Сложите данные переменные, чтобы в результате получить 11"
   ]
  },
  {
   "cell_type": "code",
   "execution_count": null,
   "id": "5355918f",
   "metadata": {},
   "outputs": [],
   "source": [
    "a = \"5\"\n",
    "b = 6"
   ]
  },
  {
   "cell_type": "markdown",
   "id": "d791c823",
   "metadata": {},
   "source": [
    "#### 2. Поменяйте значения переменных a и b местами"
   ]
  },
  {
   "cell_type": "code",
   "execution_count": 14,
   "id": "1ce946f2",
   "metadata": {},
   "outputs": [
    {
     "name": "stdout",
     "output_type": "stream",
     "text": [
      "6 5\n"
     ]
    }
   ],
   "source": [
    "a = \"5\"\n",
    "b = 6\n",
    "\n",
    "tmp = a\n",
    "a = b\n",
    "b = tmp\n",
    "\n",
    "print(a, b)"
   ]
  },
  {
   "cell_type": "markdown",
   "id": "ab21126e",
   "metadata": {},
   "source": [
    "### Задание 2\n",
    "#### Дана строка:"
   ]
  },
  {
   "cell_type": "code",
   "execution_count": 12,
   "id": "437a8d4b",
   "metadata": {},
   "outputs": [],
   "source": [
    "stringFirst = \"History is always written by the winners! When two cultures clash, the loser is obliterated, and the winner writes the history books - books which glorify their own cause and disparage the conquered foe. As Napoleon once said, 'What is history, but a fable agreed upon?'\""
   ]
  },
  {
   "cell_type": "markdown",
   "id": "d1c0ae4e",
   "metadata": {},
   "source": [
    "#### 1. Посчитайте количество слов в строке"
   ]
  },
  {
   "cell_type": "code",
   "execution_count": 10,
   "id": "32687da0",
   "metadata": {},
   "outputs": [
    {
     "name": "stdout",
     "output_type": "stream",
     "text": [
      "46\n"
     ]
    }
   ],
   "source": [
    "print(len(stringFirst.split(' ')))"
   ]
  },
  {
   "cell_type": "markdown",
   "id": "229e7fb1",
   "metadata": {},
   "source": [
    "#### 2. Посчитайте, сколько символов в строке"
   ]
  },
  {
   "cell_type": "code",
   "execution_count": 11,
   "id": "ba31ef57",
   "metadata": {},
   "outputs": [
    {
     "name": "stdout",
     "output_type": "stream",
     "text": [
      "270\n"
     ]
    }
   ],
   "source": [
    "print(len(stringFirst))"
   ]
  },
  {
   "cell_type": "markdown",
   "id": "596f4f44",
   "metadata": {},
   "source": [
    "#### 3. А без пробелов?"
   ]
  },
  {
   "cell_type": "code",
   "execution_count": 12,
   "id": "b382e9bf",
   "metadata": {},
   "outputs": [
    {
     "name": "stdout",
     "output_type": "stream",
     "text": [
      "225\n"
     ]
    }
   ],
   "source": [
    "print(len(stringFirst.replace(' ', '')))"
   ]
  },
  {
   "cell_type": "markdown",
   "id": "4d4082e6",
   "metadata": {},
   "source": [
    "#### 4. Выведите все слова, которые начинаются на 'w'"
   ]
  },
  {
   "cell_type": "code",
   "execution_count": 15,
   "id": "575dc566",
   "metadata": {},
   "outputs": [
    {
     "name": "stdout",
     "output_type": "stream",
     "text": [
      "written\n",
      "winners!\n",
      "When\n",
      "winner\n",
      "writes\n",
      "which\n",
      "What\n",
      "Количество слов начинающихся на 'w' = 7\n"
     ]
    }
   ],
   "source": [
    "lst = stringFirst.replace(\"\\'\", '').split(' ')\n",
    "wordsCount = 0\n",
    "for word in lst:\n",
    "    if(word.lower().startswith(\"w\")): #Если слово начинается на букву 'w' в нижнем регистре\n",
    "        print(word)\n",
    "        wordsCount += 1\n",
    "        \n",
    "print(\"Количество слов начинающихся на 'w' =\", wordsCount)"
   ]
  },
  {
   "cell_type": "markdown",
   "id": "f36e0c20",
   "metadata": {},
   "source": [
    "#### 5. Напишите функцию, которая разбивает строку на слова(?!. и т.д.)"
   ]
  },
  {
   "cell_type": "markdown",
   "id": "551a57d6",
   "metadata": {},
   "source": [
    "##### При составлении этого задания я немного ошибся, условие задания должно было быть иначе:\n",
    "##### Напишите функцию, которая разбивает строку на подстроку(?!. и т.д.)"
   ]
  },
  {
   "cell_type": "markdown",
   "id": "1be330f1",
   "metadata": {},
   "source": [
    "#### 6. Замените все восклицательные знаки на точки"
   ]
  },
  {
   "cell_type": "code",
   "execution_count": 18,
   "id": "df00195b",
   "metadata": {},
   "outputs": [
    {
     "name": "stdout",
     "output_type": "stream",
     "text": [
      "History is always written by the winners. When two cultures clash, the loser is obliterated, and the winner writes the history books - books which glorify their own cause and disparage the conquered foe. As Napoleon once said, 'What is history, but a fable agreed upon?'\n"
     ]
    }
   ],
   "source": [
    "print(stringFirst.replace('!', '.'))"
   ]
  },
  {
   "cell_type": "markdown",
   "id": "b4ba49ab",
   "metadata": {},
   "source": [
    "### Задание 3\n",
    "#### 1. Добавьте в следующий массив 3 значения: 19, '22', 45"
   ]
  },
  {
   "cell_type": "code",
   "execution_count": 19,
   "id": "7f82c097",
   "metadata": {},
   "outputs": [],
   "source": [
    "ageOfStudents = [16, 17, 18, 33]\n",
    "\n",
    "ageOfStudents.append(19)\n",
    "ageOfStudents.append('22')\n",
    "ageOfStudents.append(45)"
   ]
  },
  {
   "cell_type": "markdown",
   "id": "1f0dbd9d",
   "metadata": {},
   "source": [
    "#### 2. Выведите все элементы массива сначала циклом while, потом циклом for"
   ]
  },
  {
   "cell_type": "code",
   "execution_count": 20,
   "id": "bcf29a2d",
   "metadata": {},
   "outputs": [
    {
     "name": "stdout",
     "output_type": "stream",
     "text": [
      "16\n",
      "17\n",
      "18\n",
      "33\n",
      "19\n",
      "22\n",
      "45\n"
     ]
    }
   ],
   "source": [
    "i = 0\n",
    "while i < len(ageOfStudents):\n",
    "    print(ageOfStudents[i])\n",
    "    i += 1"
   ]
  },
  {
   "cell_type": "code",
   "execution_count": 22,
   "id": "9486e37f",
   "metadata": {},
   "outputs": [
    {
     "name": "stdout",
     "output_type": "stream",
     "text": [
      "16\n",
      "17\n",
      "18\n",
      "33\n",
      "19\n",
      "22\n",
      "45\n"
     ]
    }
   ],
   "source": [
    "for age in ageOfStudents:\n",
    "    print(age)"
   ]
  },
  {
   "cell_type": "markdown",
   "id": "070295a6",
   "metadata": {},
   "source": [
    "#### 3. Создайте функцию для вывода всех элементов из массива"
   ]
  },
  {
   "cell_type": "code",
   "execution_count": 23,
   "id": "3fb0a6d0",
   "metadata": {},
   "outputs": [],
   "source": [
    "def printElems(arr):\n",
    "    for elem in arr:\n",
    "        print(elem)"
   ]
  },
  {
   "cell_type": "markdown",
   "id": "ee8344bc",
   "metadata": {},
   "source": [
    "#### 4. Используйте свою функцию на следующем массиве:"
   ]
  },
  {
   "cell_type": "code",
   "execution_count": 24,
   "id": "00442376",
   "metadata": {},
   "outputs": [],
   "source": [
    "toDoList = [\"complete tasks\", \"drink tea\", \"go to volleyball\", \"feed the cat\"]\n",
    "printElems(toDoList)"
   ]
  },
  {
   "cell_type": "markdown",
   "id": "d5b1195c",
   "metadata": {},
   "source": [
    "#### 5. Есть список a = [1, 1, 2, 3, 5, 8, 13, 21, 34, 55, 89]. \\\n",
    "#### Выведите все элементы, которые меньше 5."
   ]
  },
  {
   "cell_type": "code",
   "execution_count": 28,
   "id": "72b5db19",
   "metadata": {},
   "outputs": [
    {
     "name": "stdout",
     "output_type": "stream",
     "text": [
      "1\n",
      "1\n",
      "2\n",
      "3\n"
     ]
    }
   ],
   "source": [
    "a = [1, 1, 2, 3, 5, 8, 13, 21, 34, 55, 89]\n",
    "\n",
    "for number in a:\n",
    "    if number < 5:\n",
    "        print(number)"
   ]
  },
  {
   "cell_type": "markdown",
   "id": "5375c58f",
   "metadata": {},
   "source": [
    "#### 6. (Дополнительное задание) \\\n",
    "#### Напишите функцию, которая проверяет является ли строка палиндромом. Палиндром — это слово или фраза, которые одинаково читаются слева направо и справа налево.\n",
    "##### Например: слово \"казак\" и предложение \"А роза упала на лапу Азора\" являются палиндромами"
   ]
  },
  {
   "cell_type": "code",
   "execution_count": 23,
   "id": "35d851bd",
   "metadata": {},
   "outputs": [
    {
     "name": "stdout",
     "output_type": "stream",
     "text": [
      "Yes\n"
     ]
    }
   ],
   "source": [
    "strl = \"А роза упала на лапу Азора\"\n",
    "\n",
    "if strl.lower().replace(' ', '') == strl[::-1].lower().replace(' ', ''):\n",
    "    print(\"Yes\")\n",
    "else:\n",
    "    print(\"NO\")"
   ]
  },
  {
   "cell_type": "markdown",
   "id": "c87299fe",
   "metadata": {},
   "source": [
    "### Задание 4  \\\n",
    "#### 1. Вы принимаете от пользователя последовательность чисел, разделённых запятой. Составьте список с этими числами."
   ]
  },
  {
   "cell_type": "code",
   "execution_count": 28,
   "id": "c8b5ed08",
   "metadata": {},
   "outputs": [
    {
     "name": "stdout",
     "output_type": "stream",
     "text": [
      "Введите все значения через запятую:3,4,5,6,7\n",
      "['3', '4', '5', '6', '7']\n"
     ]
    }
   ],
   "source": [
    "userInput = input(\"Введите все значения через запятую:\")\n",
    "\n",
    "userList = userInput.split(',')\n",
    "\n",
    "print(userList)"
   ]
  },
  {
   "cell_type": "markdown",
   "id": "42b28d84",
   "metadata": {},
   "source": [
    "#### 2. Выведите первый и последний элемент этого списка в одном print"
   ]
  },
  {
   "cell_type": "code",
   "execution_count": 29,
   "id": "236401d1",
   "metadata": {},
   "outputs": [
    {
     "name": "stdout",
     "output_type": "stream",
     "text": [
      "Первый элемент: 3\n",
      "Второй элемент: 7\n"
     ]
    }
   ],
   "source": [
    "print(f\"Первый элемент: {userList[0]}\\nПоследний элемент: {userList[-1]}\")"
   ]
  },
  {
   "cell_type": "markdown",
   "id": "92f9fa9e",
   "metadata": {},
   "source": [
    "#### 3. Напишите программу, которая выводит чётные числа из заданного списка и останавливается, если встречает число 111."
   ]
  },
  {
   "cell_type": "code",
   "execution_count": 3,
   "id": "c3f6ea59",
   "metadata": {},
   "outputs": [
    {
     "name": "stdout",
     "output_type": "stream",
     "text": [
      "386\n",
      "462\n",
      "418\n",
      "344\n",
      "236\n",
      "566\n",
      "978\n",
      "328\n",
      "162\n",
      "758\n",
      "918\n",
      "412\n",
      "566\n"
     ]
    }
   ],
   "source": [
    "numbers = [\n",
    "    386, 462, 47, 418, 907, 344, 236, 375, 823, 566, 597, 978, 328, 615, 953, 345,\n",
    "    399, 162, 758, 219, 918, 237, 412, 566, 111, 248, 866, 950, 626, 949, 687, 217,\n",
    "]\n",
    "\n",
    "for number in numbers:\n",
    "    if number == 111:\n",
    "        break\n",
    "    if number %2 == 0:\n",
    "        print(number)"
   ]
  },
  {
   "cell_type": "markdown",
   "id": "a51efc70",
   "metadata": {},
   "source": [
    "#### 4. Посчитать среднееарифметическое чисел, которые меньше 350"
   ]
  },
  {
   "cell_type": "code",
   "execution_count": 30,
   "id": "7553bddc",
   "metadata": {},
   "outputs": [
    {
     "name": "stdout",
     "output_type": "stream",
     "text": [
      "226.727\n"
     ]
    }
   ],
   "source": [
    "sumNumbers = 0\n",
    "sumCount = 0\n",
    "numbers = [\n",
    "    386, 462, 47, 418, 907, 344, 236, 375, 823, 566, 597, 978, 328, 615, 953, 345,\n",
    "    399, 162, 758, 219, 918, 237, 412, 566, 111, 248, 866, 950, 626, 949, 687, 217,\n",
    "]\n",
    "for number in numbers:\n",
    "    if number < 350:\n",
    "        sumNumbers += number\n",
    "        sumCount += 1\n",
    "        \n",
    "print('%.3f' % (sumNumbers / sumCount))\n",
    "\n",
    "#Тут можно было еще немного заморочиться и написать по-красивому"
   ]
  },
  {
   "cell_type": "markdown",
   "id": "6a0322c7",
   "metadata": {},
   "source": [
    "#### 5. (Дополнительно) \n",
    "#### Создать новый массив, присвоить ему значение массива numbers, удалить все элементы из массива numbers и добавить в него (в numbers) новые строковые элементы в размере 5 штук"
   ]
  },
  {
   "cell_type": "code",
   "execution_count": 26,
   "id": "b6b635e0",
   "metadata": {},
   "outputs": [
    {
     "name": "stdout",
     "output_type": "stream",
     "text": [
      "[386, 462, 47, 418, 907, 344, 236, 375, 823, 566, 597, 978, 328, 615, 953, 345, 399, 162, 758, 219, 918, 237, 412, 566, 111, 248, 866, 950, 626, 949, 687, 217]\n",
      "['Hello', 'Hi', 'How', 'are', 'You']\n"
     ]
    }
   ],
   "source": [
    "newNumbers = numbers.copy()\n",
    "\n",
    "numbers.clear()\n",
    "\n",
    "numbers = [\"Hello\", \"Hi\", \"How\", \"are\", \"You\"]\n",
    "\n",
    "print(newNumbers)\n",
    "\n",
    "print(numbers)"
   ]
  },
  {
   "cell_type": "code",
   "execution_count": null,
   "id": "a939b3a8",
   "metadata": {},
   "outputs": [],
   "source": []
  }
 ],
 "metadata": {
  "kernelspec": {
   "display_name": "Python 3",
   "language": "python",
   "name": "python3"
  },
  "language_info": {
   "codemirror_mode": {
    "name": "ipython",
    "version": 3
   },
   "file_extension": ".py",
   "mimetype": "text/x-python",
   "name": "python",
   "nbconvert_exporter": "python",
   "pygments_lexer": "ipython3",
   "version": "3.8.8"
  }
 },
 "nbformat": 4,
 "nbformat_minor": 5
}
