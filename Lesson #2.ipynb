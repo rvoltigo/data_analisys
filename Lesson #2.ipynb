{
 "cells": [
  {
   "cell_type": "markdown",
   "id": "2ca868f3",
   "metadata": {},
   "source": [
    "## Вторая практика"
   ]
  },
  {
   "cell_type": "markdown",
   "id": "500c408e",
   "metadata": {},
   "source": [
    "### Вызов справки по функции\n"
   ]
  },
  {
   "cell_type": "code",
   "execution_count": 1,
   "id": "7dc25944",
   "metadata": {},
   "outputs": [
    {
     "name": "stdout",
     "output_type": "stream",
     "text": [
      "Help on built-in function print in module builtins:\n",
      "\n",
      "print(...)\n",
      "    print(value, ..., sep=' ', end='\\n', file=sys.stdout, flush=False)\n",
      "    \n",
      "    Prints the values to a stream, or to sys.stdout by default.\n",
      "    Optional keyword arguments:\n",
      "    file:  a file-like object (stream); defaults to the current sys.stdout.\n",
      "    sep:   string inserted between values, default a space.\n",
      "    end:   string appended after the last value, default a newline.\n",
      "    flush: whether to forcibly flush the stream.\n",
      "\n"
     ]
    }
   ],
   "source": [
    "help(print)"
   ]
  },
  {
   "cell_type": "code",
   "execution_count": 3,
   "id": "6163f49f",
   "metadata": {},
   "outputs": [
    {
     "name": "stdout",
     "output_type": "stream",
     "text": [
      "Help on method_descriptor:\n",
      "\n",
      "sort(self, /, *, key=None, reverse=False)\n",
      "    Sort the list in ascending order and return None.\n",
      "    \n",
      "    The sort is in-place (i.e. the list itself is modified) and stable (i.e. the\n",
      "    order of two equal elements is maintained).\n",
      "    \n",
      "    If a key function is given, apply it once to each list item and sort them,\n",
      "    ascending or descending, according to their function values.\n",
      "    \n",
      "    The reverse flag can be set to sort in descending order.\n",
      "\n"
     ]
    }
   ],
   "source": [
    "help(list.sort)"
   ]
  },
  {
   "cell_type": "code",
   "execution_count": 4,
   "id": "48bdcb9f",
   "metadata": {},
   "outputs": [],
   "source": [
    "?print"
   ]
  },
  {
   "cell_type": "markdown",
   "id": "047c5aa5",
   "metadata": {},
   "source": [
    "### Визуализатор кода на python\n",
    "\n",
    "http://pythontutor.com/visualize.html#mode=edit\n",
    "\n",
    "Он может очень сильно помочь на начальном этапе изчения Python, когда вы пишите свои собственные программы, но ещё не понимаете как именно работает ваш код."
   ]
  },
  {
   "cell_type": "markdown",
   "id": "71647a7d",
   "metadata": {},
   "source": [
    "## Библиотека random - генерация случайных чисел, букв, случайный выбор элементов последовательности."
   ]
  },
  {
   "cell_type": "code",
   "execution_count": 27,
   "id": "b7793e88",
   "metadata": {},
   "outputs": [
    {
     "name": "stdout",
     "output_type": "stream",
     "text": [
      "72\n"
     ]
    }
   ],
   "source": [
    "import random #Для подключения модулей (библиотек) в языке программирования Python используется ключевое слово 'import' названиеМодуля\n",
    "\n",
    "number = random.randint(0, 100) #Получить рандомное целочисленное значение от 0 до 100 включительно\n",
    "print(number)"
   ]
  },
  {
   "cell_type": "markdown",
   "id": "dd1aa500",
   "metadata": {},
   "source": [
    "### Зачем нужен random?\n",
    "#### Для того, чтобы ответить на этот вопрос, напишем небольшую игру: \"Угадай число\""
   ]
  },
  {
   "cell_type": "code",
   "execution_count": 58,
   "id": "4d020a54",
   "metadata": {},
   "outputs": [
    {
     "name": "stdout",
     "output_type": "stream",
     "text": [
      "98\n",
      "Попытка № 1\n",
      "Введите число: 32\n",
      "Загаданное число больше!\n",
      "Попытка № 2\n",
      "Введите число: 33\n",
      "Загаданное число больше!\n",
      "Попытка № 3\n",
      "Введите число: 44\n",
      "Загаданное число больше!\n",
      "Попытка № 4\n",
      "Введите число: 5\n",
      "Загаданное число больше!\n",
      "Попытка № 5\n",
      "Введите число: 98\n",
      "Ты победил!\n"
     ]
    }
   ],
   "source": [
    "import random\n",
    "\n",
    "number = random.randint(0, 100) #заданное число\n",
    "# print(number)\n",
    "\n",
    "numberOfTries = 5 #Количество попыток пользователя\n",
    "tries = 0\n",
    "\n",
    "while tries < numberOfTries:\n",
    "    print(\"Попытка №\", tries + 1)\n",
    "    guess = input('Введите число: ')\n",
    "    if guess.isdigit():\n",
    "        guess = int(guess)\n",
    "    else:\n",
    "        print(\"Введите целочисленное значение!\\n\")\n",
    "        continue\n",
    "    if guess < number:\n",
    "        print('Загаданное число больше!')\n",
    "    elif guess > number:\n",
    "        print('Загаданное число меньше!')\n",
    "    else:\n",
    "        print('Ты победил!')\n",
    "        break\n",
    "    tries += 1\n",
    "\n",
    "if tries >= numberOfTries:\n",
    "    print('Ты проиграл!')"
   ]
  },
  {
   "cell_type": "markdown",
   "id": "ff41434c",
   "metadata": {},
   "source": [
    "### Также, random можно использовать для автоматического заполнения массива N-количеством элементов"
   ]
  },
  {
   "cell_type": "code",
   "execution_count": 60,
   "id": "2e4dafa8",
   "metadata": {},
   "outputs": [
    {
     "name": "stdout",
     "output_type": "stream",
     "text": [
      "[20, 7, 47, 46, 29, 4, 48, 15, 28, 23, 19, 33, 1, 44, 6, 41, 43, 8, 12, 2]\n"
     ]
    }
   ],
   "source": [
    "import random\n",
    "\n",
    "N = 20\n",
    "myNewArray = []\n",
    "for i in range(N):\n",
    "    tmpNumber = random.randint(0, 50)\n",
    "    myNewArray.append(tmpNumber)\n",
    "    \n",
    "print(myNewArray)"
   ]
  },
  {
   "cell_type": "markdown",
   "id": "5b1a0c55",
   "metadata": {},
   "source": [
    "### Или же выбрать случайный элемент из списка"
   ]
  },
  {
   "cell_type": "code",
   "execution_count": 64,
   "id": "bee2da04",
   "metadata": {},
   "outputs": [
    {
     "name": "stdout",
     "output_type": "stream",
     "text": [
      "Действие, которое необходимо выбрать: Поехать домой\n"
     ]
    }
   ],
   "source": [
    "import random\n",
    "toDoList = ['Проснуться', 'Позавтракать', 'Пойти на работу', 'Пообедать', 'Поехать домой', 'Поужинать']\n",
    "\n",
    "print(\"Действие, которое необходимо выбрать:\", random.choice(toDoList))"
   ]
  },
  {
   "cell_type": "markdown",
   "id": "743969f0",
   "metadata": {},
   "source": [
    "### Чтобы выбрать несколько уникальных элементов, нужно использовать функцию sample модуля random"
   ]
  },
  {
   "cell_type": "code",
   "execution_count": 65,
   "id": "21cbdf61",
   "metadata": {},
   "outputs": [
    {
     "name": "stdout",
     "output_type": "stream",
     "text": [
      "Несколько действий: ['Пообедать', 'Пойти на работу', 'Проснуться']\n"
     ]
    }
   ],
   "source": [
    "print(\"Несколько действий:\", random.sample(toDoList, 3))"
   ]
  },
  {
   "cell_type": "markdown",
   "id": "2b320903",
   "metadata": {},
   "source": [
    "### Чтобы перемешать элементы массива в случайном порядке, в модуле random существует функция shuffle"
   ]
  },
  {
   "cell_type": "code",
   "execution_count": 69,
   "id": "adcadbea",
   "metadata": {},
   "outputs": [
    {
     "name": "stdout",
     "output_type": "stream",
     "text": [
      "Элементы массива в случайном порядке: ['Пойти на работу', 'Пообедать', 'Поужинать', 'Поехать домой', 'Позавтракать', 'Проснуться']\n"
     ]
    }
   ],
   "source": [
    "random.shuffle(toDoList)\n",
    "print(\"Элементы массива в случайном порядке:\", toDoList)"
   ]
  },
  {
   "cell_type": "markdown",
   "id": "bf67f10b",
   "metadata": {},
   "source": [
    "# Set (множества) - контейнер, в котором содержатся данные.\n",
    "\n",
    "## Данные в Set являются уникальными (без повторений) и неструктурированы"
   ]
  },
  {
   "cell_type": "code",
   "execution_count": null,
   "id": "5deabb01",
   "metadata": {},
   "outputs": [],
   "source": [
    "myNewSet = set() #Создание пустого множества"
   ]
  },
  {
   "cell_type": "markdown",
   "id": "3dcf9d6a",
   "metadata": {},
   "source": [
    "### Добавление элементов в множество"
   ]
  },
  {
   "cell_type": "code",
   "execution_count": 70,
   "id": "3fabb9d3",
   "metadata": {},
   "outputs": [],
   "source": [
    "myNewSet = set(\"Hello world! Im here\")"
   ]
  },
  {
   "cell_type": "markdown",
   "id": "c76c5240",
   "metadata": {},
   "source": [
    "### При выводе нашего множества, мы получим разделенные уникальные элементы в разброс"
   ]
  },
  {
   "cell_type": "code",
   "execution_count": 72,
   "id": "36416724",
   "metadata": {},
   "outputs": [
    {
     "name": "stdout",
     "output_type": "stream",
     "text": [
      "{'r', 'o', 'd', '!', 'e', 'h', 'w', 'I', 'H', 'm', ' ', 'l'}\n"
     ]
    }
   ],
   "source": [
    "print(myNewSet)"
   ]
  },
  {
   "cell_type": "markdown",
   "id": "560a6fca",
   "metadata": {},
   "source": [
    "### Добавление и удаление элементов происходит следующим образом:"
   ]
  },
  {
   "cell_type": "code",
   "execution_count": 73,
   "id": "08595d53",
   "metadata": {},
   "outputs": [],
   "source": [
    "myNewSet.add('n')\n",
    "myNewSet.remove('l')\n",
    "\n",
    "print(myNewSet)"
   ]
  },
  {
   "cell_type": "markdown",
   "id": "3dc1aba0",
   "metadata": {},
   "source": [
    "### Преобразование массива в множество\n",
    "\n",
    "#### Предположим, у нас есть массив из N элементов и нам нужно получить уникальные элементы этого массива"
   ]
  },
  {
   "cell_type": "code",
   "execution_count": 75,
   "id": "eb3de397",
   "metadata": {},
   "outputs": [
    {
     "name": "stdout",
     "output_type": "stream",
     "text": [
      "{'Urus-Martan', 'Shali', 'Argun', 'Gudermes', 'Grozny'}\n"
     ]
    }
   ],
   "source": [
    "cities = [\"Grozny\", \"Gudermes\", \"Argun\", \"Shali\", \"Urus-Martan\", \"Argun\", \"Grozny\"]\n",
    "\n",
    "citiesSet = set(cities)\n",
    "\n",
    "print(citiesSet)"
   ]
  },
  {
   "cell_type": "markdown",
   "id": "50625075",
   "metadata": {},
   "source": [
    "# Dictionary (словарь) - структура данных в Python\n",
    "\n",
    "## данные в словарях хранятся по типу ключ:значение \n",
    "\n",
    "## ключи в словарях являются уникальными"
   ]
  },
  {
   "cell_type": "code",
   "execution_count": 104,
   "id": "0c096148",
   "metadata": {},
   "outputs": [],
   "source": [
    "namesAndAges = {} #создание пустого словаря\n",
    "namesAndAges = {\"Ivan\": 32, \"Pavel\": 24, \"Oleg\": 43} #Создание ключа с значениями\n",
    "\n",
    "d = dict.fromkeys(['a', 'b'], 200) #Создание словаря с разными ключами, но с одним значением"
   ]
  },
  {
   "cell_type": "code",
   "execution_count": 105,
   "id": "46f3a53e",
   "metadata": {},
   "outputs": [
    {
     "name": "stdout",
     "output_type": "stream",
     "text": [
      "32\n",
      "{'a': 200, 'b': 200}\n"
     ]
    }
   ],
   "source": [
    "print(namesAndAges[\"Ivan\"]) #Доступ к значению словаря по ключу\n",
    "print(d)"
   ]
  },
  {
   "cell_type": "markdown",
   "id": "db226753",
   "metadata": {},
   "source": [
    "## Присвоение значения по ключу и создание новых пар ключ:значение"
   ]
  },
  {
   "cell_type": "code",
   "execution_count": 106,
   "id": "876ef567",
   "metadata": {},
   "outputs": [
    {
     "name": "stdout",
     "output_type": "stream",
     "text": [
      "300\n",
      "400\n"
     ]
    }
   ],
   "source": [
    "d['a'] = 300\n",
    "print(d['a'])\n",
    "\n",
    "d['c'] = 400\n",
    "print(d['c'])\n",
    "\n",
    "\n",
    "namesAndAges.update({'Vasya': 55,\n",
    "                   'Maxim': 22})"
   ]
  },
  {
   "cell_type": "code",
   "execution_count": 107,
   "id": "a669177f",
   "metadata": {},
   "outputs": [
    {
     "name": "stdout",
     "output_type": "stream",
     "text": [
      "dict_keys(['Ivan', 'Pavel', 'Oleg', 'Vasya', 'Maxim'])\n"
     ]
    }
   ],
   "source": [
    "print(namesAndAges.keys()) #Вывод всех ключей словаря"
   ]
  },
  {
   "cell_type": "code",
   "execution_count": 108,
   "id": "7c24852e",
   "metadata": {},
   "outputs": [
    {
     "name": "stdout",
     "output_type": "stream",
     "text": [
      "dict_values([32, 24, 43, 55, 22])\n"
     ]
    }
   ],
   "source": [
    "print(namesAndAges.values()) #Вывод всех значений словаря"
   ]
  },
  {
   "cell_type": "code",
   "execution_count": 111,
   "id": "3aa44bd3",
   "metadata": {},
   "outputs": [
    {
     "name": "stdout",
     "output_type": "stream",
     "text": [
      "dict_items([('Ivan', 32), ('Pavel', 24), ('Oleg', 43), ('Vasya', 55)])\n"
     ]
    }
   ],
   "source": [
    "print(namesAndAges.items()) #Вывод всех элементов из словаря"
   ]
  },
  {
   "cell_type": "markdown",
   "id": "296e2550",
   "metadata": {},
   "source": [
    "### Вывод элементов словаря через цикл"
   ]
  },
  {
   "cell_type": "code",
   "execution_count": 109,
   "id": "a9775f34",
   "metadata": {},
   "outputs": [
    {
     "name": "stdout",
     "output_type": "stream",
     "text": [
      "Name: Ivan, age: 32\n",
      "Name: Pavel, age: 24\n",
      "Name: Oleg, age: 43\n",
      "Name: Vasya, age: 55\n",
      "Name: Maxim, age: 22\n"
     ]
    }
   ],
   "source": [
    "for key in namesAndAges:\n",
    "    print(f\"Name: {key}, age: {namesAndAges[key]}\")"
   ]
  },
  {
   "cell_type": "markdown",
   "id": "6431a9db",
   "metadata": {},
   "source": [
    "### Удаление элемента из словаря по ключу"
   ]
  },
  {
   "cell_type": "code",
   "execution_count": 110,
   "id": "ce15fc7d",
   "metadata": {},
   "outputs": [
    {
     "name": "stdout",
     "output_type": "stream",
     "text": [
      "{'Ivan': 32, 'Pavel': 24, 'Oleg': 43, 'Vasya': 55}\n"
     ]
    }
   ],
   "source": [
    "del namesAndAges['Maxim']\n",
    "\n",
    "print(namesAndAges)"
   ]
  },
  {
   "cell_type": "markdown",
   "id": "fd3bf682",
   "metadata": {},
   "source": [
    "### Модуль time и время выполнения кода"
   ]
  },
  {
   "cell_type": "code",
   "execution_count": 121,
   "id": "046d76f9",
   "metadata": {},
   "outputs": [
    {
     "name": "stdout",
     "output_type": "stream",
     "text": [
      "--- 0.1300668716430664 seconds ---\n"
     ]
    }
   ],
   "source": [
    "import time\n",
    "start_time = time.time()\n",
    "z = 0\n",
    "\n",
    "for i in range(1000):\n",
    "    for j in range(1000):\n",
    "        z += 1\n",
    "print(\"--- %s seconds ---\" % (time.time() - start_time))"
   ]
  },
  {
   "cell_type": "code",
   "execution_count": null,
   "id": "5a9a7168",
   "metadata": {},
   "outputs": [],
   "source": []
  }
 ],
 "metadata": {
  "kernelspec": {
   "display_name": "Python 3",
   "language": "python",
   "name": "python3"
  },
  "language_info": {
   "codemirror_mode": {
    "name": "ipython",
    "version": 3
   },
   "file_extension": ".py",
   "mimetype": "text/x-python",
   "name": "python",
   "nbconvert_exporter": "python",
   "pygments_lexer": "ipython3",
   "version": "3.8.8"
  }
 },
 "nbformat": 4,
 "nbformat_minor": 5
}
