{
 "cells": [
  {
   "cell_type": "markdown",
   "id": "54e8ed0a",
   "metadata": {},
   "source": [
    "# Задание 1"
   ]
  },
  {
   "cell_type": "markdown",
   "id": "3f1f1a05",
   "metadata": {},
   "source": [
    "## Добавьте следующие возможности в класс Employee:\n",
    "1. Функция down, которая снижает заработную плату на переданное значение в аргументе\n",
    "2. Сделайте так, чтобы фукнция up только ПОВЫШАЛА ЗП\n",
    "3. Добавьте новое значение в класс grade (должность)\n",
    "4. Напишите две функции, которые повышают и понижают grade сотрудника (максимальная должность 10 grade, минимальная 0)\n",
    "5. Расширьте функцию print_ таким образом, чтобы она выводила всю информацию о сотруднике"
   ]
  },
  {
   "cell_type": "code",
   "execution_count": null,
   "id": "0e3e8475",
   "metadata": {},
   "outputs": [],
   "source": [
    "class Employee:\n",
    "    def __init__(self, name, salary, format_='usd'):\n",
    "        self.minSalary = 500\n",
    "        self.name = name\n",
    "        self.format = format_\n",
    "        \n",
    "        if salary < self.minSalary:\n",
    "            print(f\"Вы хотите назначить ЗП сотруднику в размере {salary}, минимальная ЗП должна быть не менее {self.minSalary}\")\n",
    "            self.salary = 500\n",
    "        else:\n",
    "            self.salary = salary\n",
    "            \n",
    "    def up(self, vallet=100):\n",
    "        self.salary += vallet\n",
    "        \n",
    "    def print_(self):\n",
    "        print(f\"Сотрудник {self.name}, зарплата {self.salary} {self.format}\")"
   ]
  },
  {
   "cell_type": "markdown",
   "id": "fcdf3e0e",
   "metadata": {},
   "source": [
    "# Задание 2"
   ]
  },
  {
   "cell_type": "markdown",
   "id": "c8d5766a",
   "metadata": {},
   "source": [
    "## Создайте новый класс Animal, который имеет:\n",
    "1. Поле вес\n",
    "2. Поле возраст\n",
    "3. Поле окрас\n",
    "4. Конструктор Animal(self, weight, age, color)\n",
    "5. Метод, который возвращает вес\n",
    "6. Метод, который возвращает возраст\n",
    "7. Метод, который возвращает окрас\n",
    "\n",
    "## Создайте другой класс Cats, который наследуется от класса Animal и добавьте в него:\n",
    "1. Поле пушистый (да или нет)\n",
    "2. Поле кличка\n",
    "3. Поле порода\n",
    "4. Поле, когда последний раз поел\n",
    "6. Поле, какой корм предпочитает\n",
    "5. Дефолтное поле лапки\n",
    "6. Дефолтное поле глаза\n",
    "7. Создайте конструктор со всеми методами\n",
    "8. Создайте функцию, которая принимает один параметр - название корма и проверяет, будет ли питомец его кушать\n",
    "9. Создайте функцию \"Покормить\", которая проверяет корм, которым вы кормите питомца, обновляет время последнего кормления и добавляет к весу + 0.1 кг"
   ]
  },
  {
   "cell_type": "code",
   "execution_count": null,
   "id": "58283a58",
   "metadata": {},
   "outputs": [],
   "source": []
  }
 ],
 "metadata": {
  "kernelspec": {
   "display_name": "Python 3",
   "language": "python",
   "name": "python3"
  },
  "language_info": {
   "codemirror_mode": {
    "name": "ipython",
    "version": 3
   },
   "file_extension": ".py",
   "mimetype": "text/x-python",
   "name": "python",
   "nbconvert_exporter": "python",
   "pygments_lexer": "ipython3",
   "version": "3.8.8"
  }
 },
 "nbformat": 4,
 "nbformat_minor": 5
}
