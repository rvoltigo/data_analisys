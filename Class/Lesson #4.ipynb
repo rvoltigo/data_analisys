{
 "cells": [
  {
   "cell_type": "markdown",
   "id": "cf21bf0c",
   "metadata": {},
   "source": [
    "# Классы"
   ]
  },
  {
   "cell_type": "code",
   "execution_count": 17,
   "id": "db6b9f49",
   "metadata": {},
   "outputs": [],
   "source": [
    "class AnyName:\n",
    "    def method_1(self):\n",
    "        self.currency = 'usd'\n",
    "    \n",
    "    def method_2(self):\n",
    "        print(self.currency)"
   ]
  },
  {
   "cell_type": "code",
   "execution_count": 18,
   "id": "0ca01477",
   "metadata": {},
   "outputs": [],
   "source": [
    "myNewObjectClass = AnyName()"
   ]
  },
  {
   "cell_type": "code",
   "execution_count": 19,
   "id": "d37ca94b",
   "metadata": {},
   "outputs": [],
   "source": [
    "myNewObjectClass.method_1()"
   ]
  },
  {
   "cell_type": "code",
   "execution_count": 20,
   "id": "4d206271",
   "metadata": {},
   "outputs": [
    {
     "data": {
      "text/plain": [
       "'usd'"
      ]
     },
     "execution_count": 20,
     "metadata": {},
     "output_type": "execute_result"
    }
   ],
   "source": [
    "myNewObjectClass.currency"
   ]
  },
  {
   "cell_type": "code",
   "execution_count": 21,
   "id": "edfa3fc7",
   "metadata": {},
   "outputs": [
    {
     "name": "stdout",
     "output_type": "stream",
     "text": [
      "usd\n"
     ]
    }
   ],
   "source": [
    "myNewObjectClass.method_2()"
   ]
  },
  {
   "cell_type": "code",
   "execution_count": 22,
   "id": "f12cb1a8",
   "metadata": {},
   "outputs": [],
   "source": [
    "secondNewObjectClass = AnyName()"
   ]
  },
  {
   "cell_type": "code",
   "execution_count": 23,
   "id": "35ee4c94",
   "metadata": {},
   "outputs": [
    {
     "ename": "AttributeError",
     "evalue": "'AnyName' object has no attribute 'currency'",
     "output_type": "error",
     "traceback": [
      "\u001b[0;31m---------------------------------------------------------------------------\u001b[0m",
      "\u001b[0;31mAttributeError\u001b[0m                            Traceback (most recent call last)",
      "\u001b[0;32m<ipython-input-23-b06288005edd>\u001b[0m in \u001b[0;36m<module>\u001b[0;34m\u001b[0m\n\u001b[0;32m----> 1\u001b[0;31m \u001b[0msecondNewObjectClass\u001b[0m\u001b[0;34m.\u001b[0m\u001b[0mmethod_2\u001b[0m\u001b[0;34m(\u001b[0m\u001b[0;34m)\u001b[0m\u001b[0;34m\u001b[0m\u001b[0;34m\u001b[0m\u001b[0m\n\u001b[0m",
      "\u001b[0;32m<ipython-input-17-9c2240d258f9>\u001b[0m in \u001b[0;36mmethod_2\u001b[0;34m(self)\u001b[0m\n\u001b[1;32m      4\u001b[0m \u001b[0;34m\u001b[0m\u001b[0m\n\u001b[1;32m      5\u001b[0m     \u001b[0;32mdef\u001b[0m \u001b[0mmethod_2\u001b[0m\u001b[0;34m(\u001b[0m\u001b[0mself\u001b[0m\u001b[0;34m)\u001b[0m\u001b[0;34m:\u001b[0m\u001b[0;34m\u001b[0m\u001b[0;34m\u001b[0m\u001b[0m\n\u001b[0;32m----> 6\u001b[0;31m         \u001b[0mprint\u001b[0m\u001b[0;34m(\u001b[0m\u001b[0mself\u001b[0m\u001b[0;34m.\u001b[0m\u001b[0mcurrency\u001b[0m\u001b[0;34m)\u001b[0m\u001b[0;34m\u001b[0m\u001b[0;34m\u001b[0m\u001b[0m\n\u001b[0m",
      "\u001b[0;31mAttributeError\u001b[0m: 'AnyName' object has no attribute 'currency'"
     ]
    }
   ],
   "source": [
    "secondNewObjectClass.method_2()"
   ]
  },
  {
   "cell_type": "code",
   "execution_count": 24,
   "id": "5f3eaddd",
   "metadata": {},
   "outputs": [
    {
     "data": {
      "text/plain": [
       "'usd'"
      ]
     },
     "execution_count": 24,
     "metadata": {},
     "output_type": "execute_result"
    }
   ],
   "source": [
    "myNewObjectClass.currency"
   ]
  },
  {
   "cell_type": "code",
   "execution_count": 25,
   "id": "ca55f39f",
   "metadata": {},
   "outputs": [],
   "source": [
    "class Vallet:\n",
    "    def __init__(self):\n",
    "        self.format = 'rub'\n",
    "        self.vallet = 150"
   ]
  },
  {
   "cell_type": "code",
   "execution_count": 26,
   "id": "d0a632ad",
   "metadata": {},
   "outputs": [],
   "source": [
    "myVallet = Vallet()"
   ]
  },
  {
   "cell_type": "code",
   "execution_count": 27,
   "id": "c1442bae",
   "metadata": {},
   "outputs": [
    {
     "data": {
      "text/plain": [
       "'rub'"
      ]
     },
     "execution_count": 27,
     "metadata": {},
     "output_type": "execute_result"
    }
   ],
   "source": [
    "myVallet.format"
   ]
  },
  {
   "cell_type": "code",
   "execution_count": 28,
   "id": "bbfa507d",
   "metadata": {},
   "outputs": [
    {
     "data": {
      "text/plain": [
       "150"
      ]
     },
     "execution_count": 28,
     "metadata": {},
     "output_type": "execute_result"
    }
   ],
   "source": [
    "myVallet.vallet"
   ]
  },
  {
   "cell_type": "code",
   "execution_count": 30,
   "id": "03923e89",
   "metadata": {},
   "outputs": [
    {
     "name": "stdout",
     "output_type": "stream",
     "text": [
      "У меня в кошельке 150 rub\n"
     ]
    }
   ],
   "source": [
    "print(f\"У меня в кошельке {myVallet.vallet} {myVallet.format}\")"
   ]
  },
  {
   "cell_type": "code",
   "execution_count": 55,
   "id": "62fc90fb",
   "metadata": {},
   "outputs": [],
   "source": [
    "class Vallet:\n",
    "    def __init__(self, vallet, format_='rub'):\n",
    "        self.vallet = vallet\n",
    "        self.format = format_\n",
    "    \n",
    "    def returnMyMoney(self):\n",
    "        return str(self.vallet) + \" \" + self.format"
   ]
  },
  {
   "cell_type": "code",
   "execution_count": 56,
   "id": "03c76c0d",
   "metadata": {},
   "outputs": [
    {
     "data": {
      "text/plain": [
       "'150 rub'"
      ]
     },
     "execution_count": 56,
     "metadata": {},
     "output_type": "execute_result"
    }
   ],
   "source": [
    "myVallet = Vallet(150)\n",
    "myVallet.returnMyMoney()"
   ]
  },
  {
   "cell_type": "code",
   "execution_count": 57,
   "id": "bdf2ffc9",
   "metadata": {},
   "outputs": [
    {
     "data": {
      "text/plain": [
       "'100 usd'"
      ]
     },
     "execution_count": 57,
     "metadata": {},
     "output_type": "execute_result"
    }
   ],
   "source": [
    "myUSDVallet = Vallet(100, 'usd')\n",
    "\n",
    "myUSDVallet.returnMyMoney()"
   ]
  },
  {
   "cell_type": "markdown",
   "id": "3d24664f",
   "metadata": {},
   "source": [
    "## Задание\n",
    "Создайте класс сотрудника Employee. При инициализации класса задается имя сотрудника name и его текущая зарплата salary. Напишите следующие методы:\n",
    "\n",
    "1. Метод up, который увеличивает зарплату сотрудника на 100\n",
    "2. Метод print, который выводит на экран текущую зарплату сотрудника в формате \"Сотрудник Павел, зарплата 100\""
   ]
  },
  {
   "cell_type": "code",
   "execution_count": 66,
   "id": "fefc7709",
   "metadata": {},
   "outputs": [],
   "source": [
    "class Employee:\n",
    "    def __init__(self, name, salary, format_='usd'):\n",
    "        self.name = name\n",
    "        self.salary = salary\n",
    "        self.format = format_\n",
    "        \n",
    "    def up(self):\n",
    "        self.salary += 100\n",
    "        \n",
    "    def print_(self):\n",
    "        print(f\"Сотрудник {self.name}, зарплата {self.salary} {self.format}\")"
   ]
  },
  {
   "cell_type": "code",
   "execution_count": 67,
   "id": "8f5f6b8f",
   "metadata": {},
   "outputs": [],
   "source": [
    "pavel = Employee(\"Pavel\", 0)"
   ]
  },
  {
   "cell_type": "code",
   "execution_count": 68,
   "id": "0a2e8123",
   "metadata": {},
   "outputs": [],
   "source": [
    "pavel.up()\n",
    "pavel.up()\n",
    "pavel.up()"
   ]
  },
  {
   "cell_type": "code",
   "execution_count": 69,
   "id": "c5f4521f",
   "metadata": {},
   "outputs": [
    {
     "name": "stdout",
     "output_type": "stream",
     "text": [
      "Сотрудник Pavel, зарплата 300 usd\n"
     ]
    }
   ],
   "source": [
    "pavel.print_()"
   ]
  },
  {
   "cell_type": "markdown",
   "id": "403f193e",
   "metadata": {},
   "source": [
    "### Теперь необходимо сделать так, чтобы минимальная зарплата работника была 500 'usd' и дать возможность повышать зп на определенную сумму (по дефолту она должна быть 100)"
   ]
  },
  {
   "cell_type": "code",
   "execution_count": 78,
   "id": "96c721c2",
   "metadata": {},
   "outputs": [],
   "source": [
    "class Employee:\n",
    "    def __init__(self, name, salary, format_='usd'):\n",
    "        self.minSalary = 500\n",
    "        self.name = name\n",
    "        self.format = format_\n",
    "        \n",
    "        if salary < self.minSalary:\n",
    "            print(f\"Вы хотите назначить ЗП сотруднику в размере {salary}, минимальная ЗП должна быть не менее {self.minSalary}\")\n",
    "            self.salary = 500\n",
    "        else:\n",
    "            self.salary = salary\n",
    "            \n",
    "    def up(self, vallet=100):\n",
    "        self.salary += vallet\n",
    "        \n",
    "    def print_(self):\n",
    "        print(f\"Сотрудник {self.name}, зарплата {self.salary} {self.format}\")\n",
    "        "
   ]
  },
  {
   "cell_type": "code",
   "execution_count": 83,
   "id": "c159c1e7",
   "metadata": {},
   "outputs": [
    {
     "name": "stdout",
     "output_type": "stream",
     "text": [
      "Вы хотите назначить ЗП сотруднику в размере 150, минимальная ЗП должна быть не менее 500\n"
     ]
    }
   ],
   "source": [
    "maxim = Employee(\"Maxim\", 150)"
   ]
  },
  {
   "cell_type": "code",
   "execution_count": 84,
   "id": "87d92ace",
   "metadata": {},
   "outputs": [
    {
     "name": "stdout",
     "output_type": "stream",
     "text": [
      "Сотрудник Maxim, зарплата 500 usd\n"
     ]
    }
   ],
   "source": [
    "maxim.print_()"
   ]
  },
  {
   "cell_type": "code",
   "execution_count": 86,
   "id": "bdf8f132",
   "metadata": {},
   "outputs": [
    {
     "name": "stdout",
     "output_type": "stream",
     "text": [
      "Сотрудник Maxim, зарплата 500 usd\n"
     ]
    }
   ],
   "source": [
    "maxim.up(-1000)\n",
    "maxim.print_()"
   ]
  },
  {
   "cell_type": "markdown",
   "id": "297853cc",
   "metadata": {},
   "source": [
    "## Наследование"
   ]
  },
  {
   "cell_type": "code",
   "execution_count": 97,
   "id": "8657001f",
   "metadata": {},
   "outputs": [],
   "source": [
    "class Sedan():\n",
    "    def __init__(self, name, color, engine, transmission, volumeGas=50):\n",
    "        self.doors = 4\n",
    "        self.wheels = 4\n",
    "        self.name = name\n",
    "        self.color = color\n",
    "        self.engine = engine\n",
    "        self.transmission = transmission\n",
    "        self.volumeGas = volumeGas\n",
    "    \n",
    "    def print_(self):\n",
    "        print(f\"Выбранный вами автомобиль: {self.name}\\nЦвет автомобиля: {self.color}\\nОбъем двигателя: {self.engine}\\nКПП: {self.transmission}\")\n",
    "        "
   ]
  },
  {
   "cell_type": "code",
   "execution_count": 98,
   "id": "abe7f22f",
   "metadata": {},
   "outputs": [
    {
     "name": "stdout",
     "output_type": "stream",
     "text": [
      "Выбранный вами автомобиль: Camry\n",
      "Цвет автомобиля: Black\n",
      "Объем двигателя: 3.5\n",
      "КПП: AKPP\n"
     ]
    }
   ],
   "source": [
    "camry = Sedan(name=\"Camry\", color=\"Black\", engine=3.5, transmission=\"AKPP\")\n",
    "camry.print_()"
   ]
  },
  {
   "cell_type": "code",
   "execution_count": 155,
   "id": "a3332ff3",
   "metadata": {},
   "outputs": [],
   "source": [
    "class Exploitation(Sedan):\n",
    "    def __init__(self, name, color, engine, transmission, mileage=0, gas=10, consumption=15):\n",
    "        super().__init__(name, color, engine, transmission)\n",
    "        self.mileage = mileage\n",
    "        self.gas = gas\n",
    "        self.consumption = consumption\n",
    "        \n",
    "    def checkPath(self):\n",
    "        path = round(self.gas / self.consumption * 100, 2)\n",
    "        print(f\"С запасом {self.gas} литров и при расходе {self.consumption} литров, автомобиль проедет {path} км\")\n",
    "    \n",
    "    def checkRefill(self):\n",
    "        refill = round(self.volumeGas - self.gas, 2)\n",
    "        return refill\n",
    "    \n",
    "    def refill(self, litres):\n",
    "        refill = self.checkRefill()\n",
    "        \n",
    "        if litres > refill:\n",
    "            print(f\"Вы пытаетесь залить {litres} литров\")\n",
    "            print(f\"В ваш автомобиль будет залито {refill} литра бензина, возьмите деньги за {litres - refill} литров\")\n",
    "            self.gas += refill\n",
    "        else:\n",
    "            self.gas += litres\n",
    "            \n",
    "    def checkMyGas(self):\n",
    "        print(f\"В данный момент в баке {self.gas} литров бензина\")"
   ]
  },
  {
   "cell_type": "code",
   "execution_count": 156,
   "id": "97b56a34",
   "metadata": {},
   "outputs": [],
   "source": [
    "camry = Exploitation(name=\"camry\", color=\"Black\", engine=3.5, transmission=\"AKPP\", mileage=0, gas=20)"
   ]
  },
  {
   "cell_type": "code",
   "execution_count": 157,
   "id": "45339065",
   "metadata": {},
   "outputs": [
    {
     "name": "stdout",
     "output_type": "stream",
     "text": [
      "С запасом 20 литров и при расходе 15 литров, автомобиль проедет 133.33 км\n"
     ]
    }
   ],
   "source": [
    "camry.checkPath()"
   ]
  },
  {
   "cell_type": "code",
   "execution_count": 158,
   "id": "fd708853",
   "metadata": {},
   "outputs": [
    {
     "data": {
      "text/plain": [
       "30"
      ]
     },
     "execution_count": 158,
     "metadata": {},
     "output_type": "execute_result"
    }
   ],
   "source": [
    "camry.checkRefill()"
   ]
  },
  {
   "cell_type": "code",
   "execution_count": 159,
   "id": "91170571",
   "metadata": {},
   "outputs": [
    {
     "name": "stdout",
     "output_type": "stream",
     "text": [
      "Вы пытаетесь залить 50 литров\n",
      "В ваш автомобиль будет залито 30 литра бензина, возьмите деньги за 20 литров\n"
     ]
    }
   ],
   "source": [
    "camry.refill(50)"
   ]
  },
  {
   "cell_type": "code",
   "execution_count": 160,
   "id": "3915a97e",
   "metadata": {},
   "outputs": [
    {
     "name": "stdout",
     "output_type": "stream",
     "text": [
      "В данный момент в баке 50 литров бензина\n"
     ]
    }
   ],
   "source": [
    "camry.checkMyGas()"
   ]
  },
  {
   "cell_type": "code",
   "execution_count": null,
   "id": "1e916c42",
   "metadata": {},
   "outputs": [],
   "source": []
  }
 ],
 "metadata": {
  "kernelspec": {
   "display_name": "Python 3",
   "language": "python",
   "name": "python3"
  },
  "language_info": {
   "codemirror_mode": {
    "name": "ipython",
    "version": 3
   },
   "file_extension": ".py",
   "mimetype": "text/x-python",
   "name": "python",
   "nbconvert_exporter": "python",
   "pygments_lexer": "ipython3",
   "version": "3.8.8"
  }
 },
 "nbformat": 4,
 "nbformat_minor": 5
}
