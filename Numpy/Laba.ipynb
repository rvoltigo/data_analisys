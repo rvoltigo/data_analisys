{
 "cells": [
  {
   "cell_type": "markdown",
   "id": "dacdb670",
   "metadata": {},
   "source": [
    "# Nympy\n",
    "# Задание 1\n",
    "## Необходимо создать \n",
    "Создайте numpy array с элементами от числа N до 0 (например, для N = 10 это будет array([9, 8, 7, 6, 5, 4, 3, 2, 1, 0]))."
   ]
  },
  {
   "cell_type": "code",
   "execution_count": null,
   "id": "73d8c17e",
   "metadata": {},
   "outputs": [],
   "source": []
  },
  {
   "cell_type": "markdown",
   "id": "52256949",
   "metadata": {},
   "source": [
    "# Pandas\n",
    "# Задание 1\n",
    "## Используя датасеты с гита определение, какому из фильмов было выставлено максимальное количество оценок от 5.0."
   ]
  },
  {
   "cell_type": "code",
   "execution_count": null,
   "id": "bab1de6e",
   "metadata": {},
   "outputs": [],
   "source": []
  },
  {
   "cell_type": "markdown",
   "id": "d2099807",
   "metadata": {},
   "source": [
    "# Задание 2\n",
    "## Дан датасет power.csv. Задача посчитать суммарное потребление стран Германии, Румынии и Перу 1, 3 и 37 категорий за период с 2003 по 2007 года. В расчетах не должны быть отрицательные значения quantity"
   ]
  },
  {
   "cell_type": "code",
   "execution_count": null,
   "id": "86d97289",
   "metadata": {},
   "outputs": [],
   "source": []
  },
  {
   "cell_type": "markdown",
   "id": "5d63858f",
   "metadata": {},
   "source": [
    "# Задание 3\n",
    "## Импортируйте ВСЕ таблицы с любого сайта в pandas dataframe, выведите первые 10 строк таблицы и информацию о dataframe."
   ]
  },
  {
   "cell_type": "code",
   "execution_count": null,
   "id": "ed929a81",
   "metadata": {},
   "outputs": [],
   "source": []
  }
 ],
 "metadata": {
  "kernelspec": {
   "display_name": "Python 3",
   "language": "python",
   "name": "python3"
  },
  "language_info": {
   "codemirror_mode": {
    "name": "ipython",
    "version": 3
   },
   "file_extension": ".py",
   "mimetype": "text/x-python",
   "name": "python",
   "nbconvert_exporter": "python",
   "pygments_lexer": "ipython3",
   "version": "3.8.8"
  }
 },
 "nbformat": 4,
 "nbformat_minor": 5
}
