{
 "cells": [
  {
   "cell_type": "markdown",
   "id": "854a2ef9",
   "metadata": {},
   "source": [
    "# Nympy\n",
    "# Задание 1\n",
    "## Необходимо создать массив numpy, заполненный элементами от N до 0 (ввести с клавиатуры два значения).\n",
    "### in:\n",
    "### 10\n",
    "### 0\n",
    "\n",
    "### out:\n",
    "### [9, 8, 7, 6, 5, 4, 3, 2, 1]"
   ]
  },
  {
   "cell_type": "code",
   "execution_count": null,
   "id": "c0074283",
   "metadata": {},
   "outputs": [],
   "source": []
  },
  {
   "cell_type": "markdown",
   "id": "f5d5a258",
   "metadata": {},
   "source": [
    "# Pandas\n",
    "# Задание 1\n",
    "## Используя датасеты с гита определение, какому из фильмов было выставлено максимальное количество оценок от 5.0."
   ]
  },
  {
   "cell_type": "code",
   "execution_count": null,
   "id": "e59a99c2",
   "metadata": {},
   "outputs": [],
   "source": []
  },
  {
   "cell_type": "markdown",
   "id": "ec2477ca",
   "metadata": {},
   "source": [
    "# Задание 2\n",
    "## Дан датасет power.csv. Задача посчитать суммарное потребление стран Германии, Румынии и Перу 1, 3 и 37 категорий за период с 2003 по 2007 года. В расчетах не должны быть отрицательные значения quantity"
   ]
  },
  {
   "cell_type": "code",
   "execution_count": null,
   "id": "36fa0a0f",
   "metadata": {},
   "outputs": [],
   "source": []
  },
  {
   "cell_type": "markdown",
   "id": "8abbdd84",
   "metadata": {},
   "source": [
    "# Задание 3\n",
    "## Импортируйте ВСЕ таблицы с любого сайта в pandas dataframe, выведите первые 10 строк таблицы и информацию о dataframe."
   ]
  },
  {
   "cell_type": "code",
   "execution_count": null,
   "id": "cc56181f",
   "metadata": {},
   "outputs": [],
   "source": []
  }
 ],
 "metadata": {
  "kernelspec": {
   "display_name": "Python 3",
   "language": "python",
   "name": "python3"
  },
  "language_info": {
   "codemirror_mode": {
    "name": "ipython",
    "version": 3
   },
   "file_extension": ".py",
   "mimetype": "text/x-python",
   "name": "python",
   "nbconvert_exporter": "python",
   "pygments_lexer": "ipython3",
   "version": "3.8.8"
  }
 },
 "nbformat": 4,
 "nbformat_minor": 5
}
