{
 "cells": [
  {
   "cell_type": "code",
   "execution_count": 2,
   "id": "58cfa38f",
   "metadata": {},
   "outputs": [
    {
     "name": "stdout",
     "output_type": "stream",
     "text": [
      "<Response [200]>\n"
     ]
    }
   ],
   "source": [
    "from bs4 import BeautifulSoup\n",
    "\n",
    "from requests.adapters import HTTPAdapter\n",
    "from requests.packages.urllib3.poolmanager import PoolManager\n",
    "from requests.packages.urllib3.util import ssl_\n",
    "\n",
    "import ssl\n",
    "import requests\n",
    "\n",
    "CIPHERS = \"\"\"ECDHE-RSA-AES256-GCM-SHA384:ECDHE-ECDSA-AES256-GCM-SHA384:ECDHE-RSA-AES256-SHA384:ECDHE-ECDSA-AES256-SHA384:ECDHE-RSA-AES128-GCM-SHA256:ECDHE-RSA-AES128-SHA256:AES256-SHA\"\"\"\n",
    "\n",
    "\n",
    "class TlsAdapter(HTTPAdapter):\n",
    "\n",
    "    def __init__(self, ssl_options=0, **kwargs):\n",
    "        self.ssl_options = ssl_options\n",
    "        super(TlsAdapter, self).__init__(**kwargs)\n",
    "\n",
    "    def init_poolmanager(self, *pool_args, **pool_kwargs):\n",
    "        ctx = ssl_.create_urllib3_context(ciphers=CIPHERS, cert_reqs=ssl.CERT_REQUIRED, options=self.ssl_options)\n",
    "        self.poolmanager = PoolManager(*pool_args, ssl_context=ctx, **pool_kwargs)\n",
    "\n",
    "session = requests.session()\n",
    "adapter = TlsAdapter(ssl.OP_NO_TLSv1 | ssl.OP_NO_TLSv1_1)\n",
    "session.mount(\"https://\", adapter)\n",
    "\n",
    "r = session.request('GET', 'https://www.avito.ru/chechenskaya_respublika/avtomobili/toyota/camry-ASgBAgICAkTgtg20mSjitg3UoCg?cd=1&f=ASgBAgECAkTgtg20mSjitg3UoCgERfgCGXsiZnJvbSI6MTM5NzgsInRvIjoxNjM4MX28FRh7ImZyb20iOjE1ODAzLCJ0byI6bnVsbH2~FRh7ImZyb20iOm51bGwsInRvIjoxNTU0NH3GmgwXeyJmcm9tIjowLCJ0byI6MTgwMDAwMH0')\n",
    "print(r)"
   ]
  },
  {
   "cell_type": "code",
   "execution_count": null,
   "id": "667f110c",
   "metadata": {},
   "outputs": [],
   "source": []
  }
 ],
 "metadata": {
  "kernelspec": {
   "display_name": "Python 3",
   "language": "python",
   "name": "python3"
  },
  "language_info": {
   "codemirror_mode": {
    "name": "ipython",
    "version": 3
   },
   "file_extension": ".py",
   "mimetype": "text/x-python",
   "name": "python",
   "nbconvert_exporter": "python",
   "pygments_lexer": "ipython3",
   "version": "3.8.8"
  }
 },
 "nbformat": 4,
 "nbformat_minor": 5
}
