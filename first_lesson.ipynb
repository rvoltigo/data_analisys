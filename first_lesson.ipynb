{
 "cells": [
  {
   "cell_type": "code",
   "execution_count": 1,
   "id": "025734fa",
   "metadata": {},
   "outputs": [
    {
     "name": "stdout",
     "output_type": "stream",
     "text": [
      "18\n"
     ]
    }
   ],
   "source": [
    "age = 18\n",
    "print(age)"
   ]
  },
  {
   "cell_type": "code",
   "execution_count": 3,
   "id": "922c7c28",
   "metadata": {},
   "outputs": [
    {
     "name": "stdout",
     "output_type": "stream",
     "text": [
      "<class 'str'>\n",
      "<class 'int'>\n"
     ]
    }
   ],
   "source": [
    "name = \"Ivan\"\n",
    "age = 32\n",
    "\n",
    "print(type(name))\n",
    "print(type(age))"
   ]
  },
  {
   "cell_type": "code",
   "execution_count": 5,
   "id": "f527d924",
   "metadata": {},
   "outputs": [
    {
     "name": "stdout",
     "output_type": "stream",
     "text": [
      "<class 'int'>\n"
     ]
    }
   ],
   "source": [
    "p = 3.14\n",
    "# intP = int(p)\n",
    "\n",
    "print(type(int(p)))"
   ]
  },
  {
   "cell_type": "code",
   "execution_count": 9,
   "id": "aea70958",
   "metadata": {},
   "outputs": [
    {
     "name": "stdout",
     "output_type": "stream",
     "text": [
      "Yes\n"
     ]
    }
   ],
   "source": [
    "a = 5\n",
    "b = 7\n",
    "c = 10\n",
    "\n",
    "if a < b > c: #false\n",
    "    print(\"No\")\n",
    "elif a < b < c: #true\n",
    "    print(\"Yes\")"
   ]
  },
  {
   "cell_type": "code",
   "execution_count": 40,
   "id": "b93a52cd",
   "metadata": {},
   "outputs": [
    {
     "name": "stdout",
     "output_type": "stream",
     "text": [
      "16\n",
      "5.0\n",
      "10\n",
      "result: 16\n"
     ]
    }
   ],
   "source": [
    "a = 1\n",
    "b = 5\n",
    "c = 10\n",
    "\n",
    "result = a + b + c\n",
    "\n",
    "print(a + b + c)\n",
    "\n",
    "print(c / 2)\n",
    "\n",
    "print(b * 2)\n",
    "\n",
    "print(\"result:\", result)"
   ]
  },
  {
   "cell_type": "markdown",
   "id": "9164a7a8",
   "metadata": {},
   "source": [
    "## int - целочисленный тип данных (пример: 3)\n",
    "## string (str) - строковый тип данных (пример: \"Привет, мир!\")\n",
    "## float (double) - тип данных с плавающей запятой (пример: 3.14)\n",
    "## bool - логический тип данных (пример: True, False)"
   ]
  },
  {
   "cell_type": "code",
   "execution_count": 11,
   "id": "276938bc",
   "metadata": {},
   "outputs": [
    {
     "name": "stdout",
     "output_type": "stream",
     "text": [
      "asdas\n"
     ]
    },
    {
     "ename": "ValueError",
     "evalue": "invalid literal for int() with base 10: 'asdas'",
     "output_type": "error",
     "traceback": [
      "\u001b[1;31m---------------------------------------------------------------------------\u001b[0m",
      "\u001b[1;31mValueError\u001b[0m                                Traceback (most recent call last)",
      "Input \u001b[1;32mIn [11]\u001b[0m, in \u001b[0;36m<cell line: 1>\u001b[1;34m()\u001b[0m\n\u001b[1;32m----> 1\u001b[0m a \u001b[38;5;241m=\u001b[39m \u001b[38;5;28;43mint\u001b[39;49m\u001b[43m(\u001b[49m\u001b[38;5;28;43minput\u001b[39;49m\u001b[43m(\u001b[49m\u001b[43m)\u001b[49m\u001b[43m)\u001b[49m\n\u001b[0;32m      3\u001b[0m \u001b[38;5;28mprint\u001b[39m(a)\n",
      "\u001b[1;31mValueError\u001b[0m: invalid literal for int() with base 10: 'asdas'"
     ]
    }
   ],
   "source": [
    "a = input() #Ввод информации с клавиатуры\n",
    "\n",
    "print(a)"
   ]
  },
  {
   "cell_type": "code",
   "execution_count": 37,
   "id": "dbe0c5ad",
   "metadata": {},
   "outputs": [
    {
     "name": "stdout",
     "output_type": "stream",
     "text": [
      "<class 'str'>\n",
      "<class 'str'>\n",
      "<class 'str'>\n"
     ]
    }
   ],
   "source": [
    "names = ['Ivan', 'Maxim', \"Vlad\"]\n",
    "age = [23, 32, 35]\n",
    "\n",
    "# print(names[0])\n",
    "# print(names[1])\n",
    "# print(names[2])\n",
    "\n",
    "# i = 0\n",
    "# while i < 5:\n",
    "#     print(i)\n",
    "#     i += 1\n",
    "        \n",
    "# for i in range(len(names)):\n",
    "#     print(names[i])\n",
    "    \n",
    "# print(\"\\n\")\n",
    "\n",
    "# for i in names:\n",
    "#     print(i)\n",
    "\n",
    "for name in names:\n",
    "    print(type(name))\n",
    "        \n",
    "# if \"Maxim\" not in names:\n",
    "#     print(\"Максим найден\")\n",
    "    \n",
    "# print(names[-1])\n",
    "\n",
    "# names.append(\"Egor\")\n",
    "\n",
    "\n",
    "\n",
    "# names = [\n",
    "#     [\"Мохьмад\", \"абдул\"],\n",
    "#     [\"хасан\", \"адам\"]\n",
    "# ]\n",
    "\n",
    "# print(names)"
   ]
  },
  {
   "cell_type": "markdown",
   "id": "35d4eb82",
   "metadata": {},
   "source": [
    "### 0 - 1 элемент\n",
    "### 1 - 2 элемент\n",
    "### ...\n",
    "\n",
    "### -1 - последний элемент\n",
    "### -2 - предпоследний\n",
    "### ..."
   ]
  },
  {
   "cell_type": "markdown",
   "id": "521bbe23",
   "metadata": {},
   "source": []
  },
  {
   "cell_type": "code",
   "execution_count": 47,
   "id": "fbc6cebc",
   "metadata": {},
   "outputs": [],
   "source": [
    "def printArray(array):\n",
    "    for i in array:\n",
    "        print(i)"
   ]
  },
  {
   "cell_type": "code",
   "execution_count": 49,
   "id": "22c4c519",
   "metadata": {},
   "outputs": [
    {
     "name": "stdout",
     "output_type": "stream",
     "text": [
      "Ivan\n",
      "Maxim\n",
      "Vlad\n"
     ]
    }
   ],
   "source": [
    "names = [\"Ivan\", \"Maxim\", \"Vlad\"]\n",
    "\n",
    "printArray(names)"
   ]
  },
  {
   "cell_type": "code",
   "execution_count": 51,
   "id": "f6cd3635",
   "metadata": {},
   "outputs": [
    {
     "name": "stdout",
     "output_type": "stream",
     "text": [
      "Ivanovi\n",
      "Maximovi\n",
      "Vlads\n"
     ]
    }
   ],
   "source": [
    "family = [\"Ivanovi\", \"Maximovi\", \"Vlads\"]\n",
    "\n",
    "printArray(family)"
   ]
  },
  {
   "cell_type": "markdown",
   "id": "aa98b67b",
   "metadata": {},
   "source": [
    "# def - функция\n",
    "## def NAME (VAR):\n",
    "## тело цикла\n",
    "## result значение"
   ]
  },
  {
   "cell_type": "markdown",
   "id": "94b21477",
   "metadata": {},
   "source": [
    "## 1 фукнция - < 30 строк"
   ]
  },
  {
   "cell_type": "code",
   "execution_count": null,
   "id": "f78d0921",
   "metadata": {},
   "outputs": [],
   "source": [
    "Основные функции для работы с массивами\n",
    "циклы for, while\n",
    "операторы continue, break"
   ]
  }
 ],
 "metadata": {
  "kernelspec": {
   "display_name": "Python 3",
   "language": "python",
   "name": "python3"
  },
  "language_info": {
   "codemirror_mode": {
    "name": "ipython",
    "version": 3
   },
   "file_extension": ".py",
   "mimetype": "text/x-python",
   "name": "python",
   "nbconvert_exporter": "python",
   "pygments_lexer": "ipython3",
   "version": "3.8.8"
  }
 },
 "nbformat": 4,
 "nbformat_minor": 5
}
