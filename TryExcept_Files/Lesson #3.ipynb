{
 "cells": [
  {
   "cell_type": "markdown",
   "id": "61067ea1",
   "metadata": {},
   "source": [
    "# Обработка исключений\n",
    "\n",
    "### Конструкция обработки исключений:\n",
    "### try:\n",
    "### except:\n",
    "### finally:"
   ]
  },
  {
   "cell_type": "code",
   "execution_count": 1,
   "id": "64aa325b",
   "metadata": {},
   "outputs": [
    {
     "ename": "ValueError",
     "evalue": "could not convert string to float: '3.14fff'",
     "output_type": "error",
     "traceback": [
      "\u001b[0;31m---------------------------------------------------------------------------\u001b[0m",
      "\u001b[0;31mValueError\u001b[0m                                Traceback (most recent call last)",
      "\u001b[0;32m<ipython-input-1-d6c102fda503>\u001b[0m in \u001b[0;36m<module>\u001b[0;34m\u001b[0m\n\u001b[1;32m      1\u001b[0m \u001b[0mpi\u001b[0m \u001b[0;34m=\u001b[0m \u001b[0;34m\"3.14fff\"\u001b[0m\u001b[0;34m\u001b[0m\u001b[0;34m\u001b[0m\u001b[0m\n\u001b[1;32m      2\u001b[0m \u001b[0;34m\u001b[0m\u001b[0m\n\u001b[0;32m----> 3\u001b[0;31m \u001b[0mprint\u001b[0m\u001b[0;34m(\u001b[0m\u001b[0mfloat\u001b[0m\u001b[0;34m(\u001b[0m\u001b[0mpi\u001b[0m\u001b[0;34m)\u001b[0m\u001b[0;34m)\u001b[0m\u001b[0;34m\u001b[0m\u001b[0;34m\u001b[0m\u001b[0m\n\u001b[0m",
      "\u001b[0;31mValueError\u001b[0m: could not convert string to float: '3.14fff'"
     ]
    }
   ],
   "source": [
    "pi = \"3.14fff\"\n",
    "\n",
    "print(float(pi))"
   ]
  },
  {
   "cell_type": "markdown",
   "id": "34a4a410",
   "metadata": {},
   "source": [
    "### В примере выше возникает ошибка, т.к. невозможно преобразовать строковый тип данных в float\n",
    "### В таких ситуациях используется обработчик ошибок"
   ]
  },
  {
   "cell_type": "code",
   "execution_count": 2,
   "id": "4a0323bc",
   "metadata": {},
   "outputs": [
    {
     "name": "stdout",
     "output_type": "stream",
     "text": [
      "Невозможно преобразовать данную переменную!!!\n"
     ]
    }
   ],
   "source": [
    "try: #В этом блоке будут искаться ошибки\n",
    "    pi = \"3.14fff\"\n",
    "    print(float(pi))\n",
    "except: #Здесь выводится определенная ошибка, если она была найдена в блоке try\n",
    "    print(\"Невозможно преобразовать данную переменную!!!\")"
   ]
  },
  {
   "cell_type": "code",
   "execution_count": 4,
   "id": "68f90204",
   "metadata": {},
   "outputs": [
    {
     "name": "stdout",
     "output_type": "stream",
     "text": [
      "Нельзя делить на ноль!\n"
     ]
    }
   ],
   "source": [
    "try:\n",
    "    x = 3 / 0\n",
    "    print(x)\n",
    "except ArithmeticError:\n",
    "    print(\"Нельзя делить на ноль!\")"
   ]
  },
  {
   "cell_type": "code",
   "execution_count": 12,
   "id": "08d200cc",
   "metadata": {},
   "outputs": [
    {
     "name": "stdout",
     "output_type": "stream",
     "text": [
      "Индекс выходит за пределы границ. Переменной будет присвоено первое значение массива, если массив пустой - будет\n",
      "присвоено дефолтное значение 'Alex'\n",
      "Vasya\n"
     ]
    }
   ],
   "source": [
    "names = [\"Vasya\", \"Max\", \"Ivan\", \"Pavel\"]\n",
    "name = \"\"\n",
    "try:\n",
    "    name = names[4]\n",
    "    print(name)\n",
    "except:\n",
    "    print(\"Индекс выходит за пределы границ. Переменной будет присвоено первое значение массива, если массив пустой - будет\\nприсвоено дефолтное значение 'Alex'\")\n",
    "    if not names[0]:\n",
    "        name = \"Alex\"\n",
    "    else:\n",
    "        name = names[0]\n",
    "finally: #Этот блок будет выполняться всегда\n",
    "    print(name)"
   ]
  },
  {
   "cell_type": "code",
   "execution_count": 1,
   "id": "8f91cf31",
   "metadata": {},
   "outputs": [
    {
     "name": "stdout",
     "output_type": "stream",
     "text": [
      "An exception flew by!\n"
     ]
    }
   ],
   "source": [
    "try:\n",
    "    raise NameError('HiThere')\n",
    "except NameError:\n",
    "    print('An exception flew by!')\n",
    "    \n",
    "#raise - создание собственного исключения"
   ]
  },
  {
   "cell_type": "markdown",
   "id": "f9eb67b3",
   "metadata": {},
   "source": [
    "# Работа с файлами\n",
    "\n",
    "### Для открытия файла используется функция open(NAME), где NAME - название файла\n",
    "\n",
    "### Флаги для работы с open:\n",
    "#### 'r'\tоткрытие на чтение (является значением по умолчанию).\n",
    "#### 'w'\tоткрытие на запись, содержимое файла удаляется, если файла не существует, создается новый.\n",
    "#### 'x'\tоткрытие на запись, если файла не существует, иначе исключение.\n",
    "#### 'a'\tоткрытие на дозапись, информация добавляется в конец файла.\n",
    "#### '+'\tоткрытие на чтение и запись\n",
    "\n",
    "#### Режимы могут быть объединены, то есть, к примеру, 'rb' - чтение в двоичном режиме. По умолчанию режим равен 'rt'.\n",
    "\n",
    "#### И последний аргумент, encoding, нужен только в текстовом режиме чтения файла. Этот аргумент задает кодировку."
   ]
  },
  {
   "cell_type": "code",
   "execution_count": 26,
   "id": "7f5b6fbe",
   "metadata": {},
   "outputs": [
    {
     "ename": "FileNotFoundError",
     "evalue": "[Errno 2] No such file or directory: 'damage3.txt'",
     "output_type": "error",
     "traceback": [
      "\u001b[0;31m---------------------------------------------------------------------------\u001b[0m",
      "\u001b[0;31mFileNotFoundError\u001b[0m                         Traceback (most recent call last)",
      "\u001b[0;32m<ipython-input-26-773ba33ac37e>\u001b[0m in \u001b[0;36m<module>\u001b[0;34m\u001b[0m\n\u001b[0;32m----> 1\u001b[0;31m \u001b[0mdamage\u001b[0m \u001b[0;34m=\u001b[0m \u001b[0mopen\u001b[0m\u001b[0;34m(\u001b[0m\u001b[0;34m'damage3.txt'\u001b[0m\u001b[0;34m)\u001b[0m\u001b[0;34m\u001b[0m\u001b[0;34m\u001b[0m\u001b[0m\n\u001b[0m",
      "\u001b[0;31mFileNotFoundError\u001b[0m: [Errno 2] No such file or directory: 'damage3.txt'"
     ]
    }
   ],
   "source": [
    "damage = open('damage3.txt')"
   ]
  },
  {
   "cell_type": "code",
   "execution_count": 14,
   "id": "7c1f509c",
   "metadata": {},
   "outputs": [
    {
     "name": "stdout",
     "output_type": "stream",
     "text": [
      "Невозможно найти файл с данным названием\n"
     ]
    }
   ],
   "source": [
    "try:\n",
    "    damage = open('dama1ge.txt')\n",
    "    print(damage)\n",
    "except:\n",
    "    print(\"Невозможно найти файл с данным названием\")"
   ]
  },
  {
   "cell_type": "code",
   "execution_count": 37,
   "id": "dd939511",
   "metadata": {},
   "outputs": [
    {
     "name": "stdout",
     "output_type": "stream",
     "text": [
      "13\n",
      "44\n",
      "31\n",
      "Hello\n",
      "110\n",
      "94\n",
      "12\n",
      "57\n",
      "32\n",
      "56\n",
      "39\n"
     ]
    }
   ],
   "source": [
    "try:\n",
    "    damage = open('damage.txt', 'r')\n",
    "    print(damage.read())\n",
    "except:\n",
    "    print(\"Файл не найден!\")\n",
    "finally:\n",
    "    damage.close()"
   ]
  },
  {
   "cell_type": "code",
   "execution_count": 40,
   "id": "194ea3b0",
   "metadata": {},
   "outputs": [
    {
     "name": "stdout",
     "output_type": "stream",
     "text": [
      "Damage = 13\n",
      "\n",
      "Damage = 44\n",
      "\n",
      "Damage = 31\n",
      "\n",
      "Damage = Hello\n",
      "\n",
      "Damage = 110\n",
      "\n",
      "Damage = 94\n",
      "\n",
      "Damage = 12\n",
      "\n",
      "Damage = 57\n",
      "\n",
      "Damage = 32\n",
      "\n",
      "Damage = 56\n",
      "\n",
      "Damage = 39\n"
     ]
    }
   ],
   "source": [
    "def openAndPrint(file):\n",
    "    try:\n",
    "        damageFile = open('damage.txt', 'r')\n",
    "        for damage in damageFile:\n",
    "            print(f\"Damage = {damage}\")\n",
    "    except:\n",
    "        print(\"Файл не найден!\")\n",
    "    finally:\n",
    "        damageFile.close()\n",
    "\n",
    "openAndPrint('damage.txt')"
   ]
  },
  {
   "cell_type": "code",
   "execution_count": 45,
   "id": "cf88b2f0",
   "metadata": {},
   "outputs": [],
   "source": [
    "import random\n",
    "\n",
    "try:\n",
    "    damageFile = open('damage.txt', 'a')\n",
    "    randomArray = [str(random.randint(0, 100)) for i in range(10)]\n",
    "    for index in randomArray:\n",
    "        damageFile.write(index + '\\n')\n",
    "except:\n",
    "    print(\"Файл не найден!\")\n",
    "finally:\n",
    "    damageFile.close()"
   ]
  },
  {
   "cell_type": "code",
   "execution_count": 46,
   "id": "35b6383e",
   "metadata": {},
   "outputs": [
    {
     "name": "stdout",
     "output_type": "stream",
     "text": [
      "Damage = 13\n",
      "\n",
      "Damage = 44\n",
      "\n",
      "Damage = 31\n",
      "\n",
      "Damage = Hello\n",
      "\n",
      "Damage = 36\n",
      "\n",
      "Damage = 79\n",
      "\n",
      "Damage = 86\n",
      "\n",
      "Damage = 40\n",
      "\n",
      "Damage = 79\n",
      "\n",
      "Damage = 49\n",
      "\n",
      "Damage = 50\n",
      "\n",
      "Damage = 97\n",
      "\n",
      "Damage = 22\n",
      "\n",
      "Damage = 39\n",
      "\n",
      "Damage = 50\n",
      "\n",
      "Damage = 84\n",
      "\n",
      "Damage = 96\n",
      "\n",
      "Damage = 49\n",
      "\n",
      "Damage = 78\n",
      "\n",
      "Damage = 10\n",
      "\n",
      "Damage = 66\n",
      "\n",
      "Damage = 70\n",
      "\n",
      "Damage = 0\n",
      "\n",
      "Damage = 44\n",
      "\n"
     ]
    }
   ],
   "source": [
    "openAndPrint('damage.txt')"
   ]
  },
  {
   "cell_type": "markdown",
   "id": "1b04aac2",
   "metadata": {},
   "source": [
    "### Вытащить из файла целочисленные значения, если попадается иное - вывод слова"
   ]
  },
  {
   "cell_type": "code",
   "execution_count": 25,
   "id": "b913738b",
   "metadata": {},
   "outputs": [
    {
     "name": "stdout",
     "output_type": "stream",
     "text": [
      "Найдено слово: hello\n",
      "\n",
      "Целочисленные значения из файла: [5, 10, 12, 33, 41, 80, 100, 113, 34, 98]\n",
      "Файл закрыт.\n"
     ]
    }
   ],
   "source": [
    "try:\n",
    "    damageFile = open('damage.txt')\n",
    "    damages = []\n",
    "    for damage in damageFile:\n",
    "        try:\n",
    "            damages.append(int(damage))\n",
    "        except:\n",
    "            print(f\"Найдено слово: {damage}\")\n",
    "    print(\"Целочисленные значения из файла:\", damages)\n",
    "    f.close()\n",
    "    print('Файл закрыт.')\n",
    "except:\n",
    "    print(\"Ошибка:\\n\")\n",
    "    print(\"Файл не найден!\")"
   ]
  },
  {
   "cell_type": "code",
   "execution_count": 48,
   "id": "7c946535",
   "metadata": {},
   "outputs": [],
   "source": [
    "with open(\"test.txt\",'w',encoding = 'utf-8') as f:\n",
    "    f.write(\"my first file\\n\")\n",
    "    f.write(\"This file\\n\\n\")\n",
    "    f.write(\"contains three lines\\n\")"
   ]
  },
  {
   "cell_type": "markdown",
   "id": "0274d5c3",
   "metadata": {},
   "source": [
    "# Глобальные переменные"
   ]
  },
  {
   "cell_type": "code",
   "execution_count": 4,
   "id": "bfbc5302",
   "metadata": {},
   "outputs": [
    {
     "name": "stdout",
     "output_type": "stream",
     "text": [
      "Hello, Pavel\n",
      "Max\n"
     ]
    }
   ],
   "source": [
    "name = \"Pavel\"\n",
    "\n",
    "def say_hello():\n",
    "    global name\n",
    "    print(f\"Hello, {name}\")\n",
    "    name = \"Max\"\n",
    "    \n",
    "say_hello()\n",
    "\n",
    "print(name)"
   ]
  },
  {
   "cell_type": "code",
   "execution_count": null,
   "id": "a27a5652",
   "metadata": {},
   "outputs": [],
   "source": []
  }
 ],
 "metadata": {
  "kernelspec": {
   "display_name": "Python 3",
   "language": "python",
   "name": "python3"
  },
  "language_info": {
   "codemirror_mode": {
    "name": "ipython",
    "version": 3
   },
   "file_extension": ".py",
   "mimetype": "text/x-python",
   "name": "python",
   "nbconvert_exporter": "python",
   "pygments_lexer": "ipython3",
   "version": "3.8.8"
  }
 },
 "nbformat": 4,
 "nbformat_minor": 5
}
