{
 "cells": [
  {
   "cell_type": "markdown",
   "id": "df5a9e73",
   "metadata": {},
   "source": [
    "# Задание #1\n",
    "### 1.1. Найдите в приведенном ниже коде варианты, где могут появляться ошибки и сделайте так, чтобы эти избежать краха работы кода"
   ]
  },
  {
   "cell_type": "code",
   "execution_count": null,
   "id": "ef523d06",
   "metadata": {},
   "outputs": [],
   "source": [
    "def average(a, b):\n",
    "    count = 2\n",
    "    return (a + b) / count\n",
    "\n",
    "a = input()\n",
    "b = input()\n",
    "\n",
    "average(a, b)"
   ]
  },
  {
   "cell_type": "markdown",
   "id": "8859c65e",
   "metadata": {},
   "source": [
    "### 1.2. Создайте словарь из ключей: firstName, lastName, age  и напишите функцию, которая проверяет наличие определенного ключа в словаре и протестируйте функцию\n",
    "\n",
    "#### in 1:\n",
    "#### Введите ключ: name\n",
    "\n",
    "#### out 1:\n",
    "#### Данного ключа нет в словаре!\n",
    "\n",
    "#### in 2:\n",
    "#### Введите ключ: age\n",
    "\n",
    "#### out 2:\n",
    "#### Найдено следующее значение ключа age: 32"
   ]
  },
  {
   "cell_type": "code",
   "execution_count": null,
   "id": "60fd6904",
   "metadata": {},
   "outputs": [],
   "source": [
    "#Введите код здесь"
   ]
  },
  {
   "cell_type": "markdown",
   "id": "5b93c287",
   "metadata": {},
   "source": [
    "### 1.3. Дополните следующий код так, чтобы программа не крашилась"
   ]
  },
  {
   "cell_type": "code",
   "execution_count": 3,
   "id": "16295930",
   "metadata": {},
   "outputs": [
    {
     "name": "stdout",
     "output_type": "stream",
     "text": [
      "Введите число: 5\n"
     ]
    }
   ],
   "source": [
    "while True:\n",
    "    x = int(input(\"Введите число: \"))\n",
    "    if x == 5:\n",
    "        break"
   ]
  },
  {
   "cell_type": "code",
   "execution_count": null,
   "id": "c9b949f6",
   "metadata": {},
   "outputs": [],
   "source": []
  }
 ],
 "metadata": {
  "kernelspec": {
   "display_name": "Python 3",
   "language": "python",
   "name": "python3"
  },
  "language_info": {
   "codemirror_mode": {
    "name": "ipython",
    "version": 3
   },
   "file_extension": ".py",
   "mimetype": "text/x-python",
   "name": "python",
   "nbconvert_exporter": "python",
   "pygments_lexer": "ipython3",
   "version": "3.8.8"
  }
 },
 "nbformat": 4,
 "nbformat_minor": 5
}
