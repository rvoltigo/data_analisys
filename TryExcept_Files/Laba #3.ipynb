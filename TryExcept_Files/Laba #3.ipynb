{
 "cells": [
  {
   "cell_type": "markdown",
   "id": "5aacfa15",
   "metadata": {},
   "source": [
    "# Задания #1\n",
    "### 1.1. Найдите в приведенном ниже коде варианты, где могут появляться ошибки и сделайте так, чтобы эти избежать краха работы кода"
   ]
  },
  {
   "cell_type": "code",
   "execution_count": null,
   "id": "8e2f4695",
   "metadata": {},
   "outputs": [],
   "source": [
    "def average(a, b):\n",
    "    count = 2\n",
    "    return (a + b) / count\n",
    "\n",
    "a = input()\n",
    "b = input()\n",
    "\n",
    "average(a, b)"
   ]
  },
  {
   "cell_type": "markdown",
   "id": "21a8827c",
   "metadata": {},
   "source": [
    "### 1.2. Напишите функцию, которая проверяет наличие определенного ключа в словаре (используя исключения try, except, finally). Создайте список словарей из ключей: firstName, lastName, age со значениями  и протестируйте функцию\n",
    "\n",
    "#### in 1:\n",
    "#### Введите ключ: name\n",
    "\n",
    "#### out 1:\n",
    "#### Данного ключа нет в словаре!\n",
    "\n",
    "#### in 2:\n",
    "#### Введите ключ: age\n",
    "\n",
    "#### out 2:\n",
    "#### Найдено следующее значение ключа age: 32"
   ]
  },
  {
   "cell_type": "code",
   "execution_count": null,
   "id": "c8529240",
   "metadata": {},
   "outputs": [],
   "source": [
    "#Введите код здесь"
   ]
  },
  {
   "cell_type": "markdown",
   "id": "4a277d45",
   "metadata": {},
   "source": [
    "### 1.3. Дополните следующий код так, чтобы программа не крашилась"
   ]
  },
  {
   "cell_type": "code",
   "execution_count": 3,
   "id": "7c549b17",
   "metadata": {},
   "outputs": [
    {
     "name": "stdout",
     "output_type": "stream",
     "text": [
      "Введите число: 5\n"
     ]
    }
   ],
   "source": [
    "while True:\n",
    "    x = int(input(\"Введите число: \"))\n",
    "    if x == 5:\n",
    "        break"
   ]
  },
  {
   "cell_type": "markdown",
   "id": "f8f47c74",
   "metadata": {},
   "source": [
    "### 1.4. Дополните следующий код так, чтобы обработать все исключения (файл битый, файл пустой и т.д.), используя встроенные исключения языка (например: ValueError, ZeroDivisionError)"
   ]
  },
  {
   "cell_type": "code",
   "execution_count": 4,
   "id": "915cca41",
   "metadata": {},
   "outputs": [],
   "source": [
    "filepath = 'ex1_4.txt'\n",
    "with open(filepath, 'r') as names:\n",
    "    result = names.readlines()"
   ]
  },
  {
   "cell_type": "markdown",
   "id": "0dec3123",
   "metadata": {},
   "source": [
    "# Задания #2\n",
    "\n",
    "### 2.1. Создайте файл \"myFirstFile.txt\" (кодом) и запишите в него массив, сгенерированный из 300 случайных целочисленных элементов от 0 до 1000  (не забывая про все возможные исключения)"
   ]
  },
  {
   "cell_type": "code",
   "execution_count": 8,
   "id": "4fc5ee3c",
   "metadata": {},
   "outputs": [],
   "source": [
    "#Код писать здесь"
   ]
  },
  {
   "cell_type": "markdown",
   "id": "c160dbf0",
   "metadata": {},
   "source": [
    "### 2.2. Напишите программу, которая соединит всю информацию из файлов file1.txt, file2.txt и file3.txt в один файл без дублирующих слов"
   ]
  },
  {
   "cell_type": "code",
   "execution_count": 7,
   "id": "a36466d0",
   "metadata": {},
   "outputs": [],
   "source": [
    "#Код писать здесь"
   ]
  },
  {
   "cell_type": "markdown",
   "id": "12a44499",
   "metadata": {},
   "source": [
    "### 2.3. Вам необходимо написать программу, которая будет получать информацию из файла movies.csv, расположенный в директории с этим файлом и записать эту информацию в словарь"
   ]
  },
  {
   "cell_type": "code",
   "execution_count": null,
   "id": "75606ba9",
   "metadata": {},
   "outputs": [],
   "source": [
    "#Код писать здесь"
   ]
  }
 ],
 "metadata": {
  "kernelspec": {
   "display_name": "Python 3",
   "language": "python",
   "name": "python3"
  },
  "language_info": {
   "codemirror_mode": {
    "name": "ipython",
    "version": 3
   },
   "file_extension": ".py",
   "mimetype": "text/x-python",
   "name": "python",
   "nbconvert_exporter": "python",
   "pygments_lexer": "ipython3",
   "version": "3.8.8"
  }
 },
 "nbformat": 4,
 "nbformat_minor": 5
}
